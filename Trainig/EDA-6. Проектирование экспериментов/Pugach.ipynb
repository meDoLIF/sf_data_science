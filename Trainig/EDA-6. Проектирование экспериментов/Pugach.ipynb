{
  "cells": [
    {
      "cell_type": "markdown",
      "metadata": {
        "id": "aUAqi67vLzhL"
      },
      "source": [
        "# Импорт библиотек"
      ]
    },
    {
      "cell_type": "code",
      "execution_count": 93,
      "metadata": {},
      "outputs": [],
      "source": [
        "#!pip install seaborn"
      ]
    },
    {
      "cell_type": "code",
      "execution_count": 94,
      "metadata": {
        "id": "lXinfUuSL6Og"
      },
      "outputs": [],
      "source": [
        "import pandas as pd \n",
        "import seaborn as sns\n",
        "from matplotlib import pyplot as plt"
      ]
    },
    {
      "cell_type": "markdown",
      "metadata": {
        "id": "hIlLTfPPz3VG"
      },
      "source": [
        "# Настройка CometML\n",
        "<img src='https://camo.githubusercontent.com/b35adf34bc440ea2ac19bb0d3432f48e26d71ab8e4c256e936b709eec44f5b19/68747470733a2f2f7777772e636f6d65742e6d6c2f696d616765732f6c6f676f5f636f6d65745f6c696768742e706e67' width=500px>"
      ]
    },
    {
      "cell_type": "code",
      "execution_count": 95,
      "metadata": {
        "id": "4JiQtNAVQIu-"
      },
      "outputs": [],
      "source": [
        "#!pip install comet_ml"
      ]
    },
    {
      "cell_type": "code",
      "execution_count": 96,
      "metadata": {
        "id": "MGyR32T9qGD9"
      },
      "outputs": [],
      "source": [
        "from comet_ml import Experiment"
      ]
    },
    {
      "cell_type": "code",
      "execution_count": 97,
      "metadata": {
        "colab": {
          "base_uri": "https://localhost:8080/"
        },
        "id": "LPU_kAoC9IYG",
        "outputId": "d2e6e899-e80a-455b-c18b-532ceee68a3d"
      },
      "outputs": [
        {
          "name": "stderr",
          "output_type": "stream",
          "text": [
            "COMET INFO: ---------------------------\n",
            "COMET INFO: Comet.ml Experiment Summary\n",
            "COMET INFO: ---------------------------\n",
            "COMET INFO:   Data:\n",
            "COMET INFO:     display_summary_level : 1\n",
            "COMET INFO:     url                   : https://www.comet.com/medolif/medical-appointment/238df879019f41f2a16e29add54caac9\n",
            "COMET INFO:   Parameters:\n",
            "COMET INFO:     C                 : 1.0\n",
            "COMET INFO:     class_weight      : 1\n",
            "COMET INFO:     clip              : False\n",
            "COMET INFO:     copy              : True\n",
            "COMET INFO:     dual              : False\n",
            "COMET INFO:     feature_range     : (0, 1)\n",
            "COMET INFO:     fit_intercept     : True\n",
            "COMET INFO:     intercept_scaling : 1\n",
            "COMET INFO:     l1_ratio          : 1\n",
            "COMET INFO:     max_iter          : 100\n",
            "COMET INFO:     multi_class       : auto\n",
            "COMET INFO:     n_jobs            : 1\n",
            "COMET INFO:     penalty           : l2\n",
            "COMET INFO:     random_state      : 1\n",
            "COMET INFO:     solver            : lbfgs\n",
            "COMET INFO:     tol               : 0.0001\n",
            "COMET INFO:     verbose           : 0\n",
            "COMET INFO:     warm_start        : False\n",
            "COMET INFO:   Uploads:\n",
            "COMET INFO:     environment details : 1\n",
            "COMET INFO:     figures             : 2\n",
            "COMET INFO:     filename            : 1\n",
            "COMET INFO:     git metadata        : 1\n",
            "COMET INFO:     installed packages  : 1\n",
            "COMET INFO:     notebook            : 1\n",
            "COMET INFO:     source_code         : 1\n",
            "COMET INFO: ---------------------------\n",
            "COMET WARNING: As you are running in a Jupyter environment, you will need to call `experiment.end()` when finished to ensure all metrics and code are logged before exiting.\n",
            "COMET INFO: Experiment is live on comet.ml https://www.comet.com/medolif/medical-appointment/376d0689abd446a4b2e4864f2b34ee5e\n",
            "\n"
          ]
        }
      ],
      "source": [
        "# import comet_ml at the top of your file\n",
        "from comet_ml import Experiment\n",
        "\n",
        "# Create an experiment with your api key\n",
        "experiment = Experiment(\n",
        "    api_key=\"73JuQjgYTOuXJXhj1sRekpCwd\",\n",
        "    project_name=\"medical-appointment\",\n",
        "    workspace=\"medolif\",\n",
        ")"
      ]
    },
    {
      "cell_type": "markdown",
      "metadata": {
        "id": "y3290WaEMCCM"
      },
      "source": [
        "# Загрузка данных"
      ]
    },
    {
      "cell_type": "code",
      "execution_count": 98,
      "metadata": {
        "id": "VbAf186tLgqb"
      },
      "outputs": [],
      "source": [
        "df = pd.read_csv('data/KaggleV2-May-2016.csv')"
      ]
    },
    {
      "cell_type": "code",
      "execution_count": 99,
      "metadata": {
        "colab": {
          "base_uri": "https://localhost:8080/",
          "height": 206
        },
        "id": "Yrs_ikOi7e92",
        "outputId": "7adfe956-3f2b-48eb-d83f-b6bfc2a9a07a"
      },
      "outputs": [
        {
          "data": {
            "text/html": [
              "<div>\n",
              "<style scoped>\n",
              "    .dataframe tbody tr th:only-of-type {\n",
              "        vertical-align: middle;\n",
              "    }\n",
              "\n",
              "    .dataframe tbody tr th {\n",
              "        vertical-align: top;\n",
              "    }\n",
              "\n",
              "    .dataframe thead th {\n",
              "        text-align: right;\n",
              "    }\n",
              "</style>\n",
              "<table border=\"1\" class=\"dataframe\">\n",
              "  <thead>\n",
              "    <tr style=\"text-align: right;\">\n",
              "      <th></th>\n",
              "      <th>PatientId</th>\n",
              "      <th>AppointmentID</th>\n",
              "      <th>Gender</th>\n",
              "      <th>ScheduledDay</th>\n",
              "      <th>AppointmentDay</th>\n",
              "      <th>Age</th>\n",
              "      <th>Neighbourhood</th>\n",
              "      <th>Scholarship</th>\n",
              "      <th>Hipertension</th>\n",
              "      <th>Diabetes</th>\n",
              "      <th>Alcoholism</th>\n",
              "      <th>Handcap</th>\n",
              "      <th>SMS_received</th>\n",
              "      <th>No-show</th>\n",
              "    </tr>\n",
              "  </thead>\n",
              "  <tbody>\n",
              "    <tr>\n",
              "      <th>0</th>\n",
              "      <td>2.987250e+13</td>\n",
              "      <td>5642903</td>\n",
              "      <td>F</td>\n",
              "      <td>2016-04-29T18:38:08Z</td>\n",
              "      <td>2016-04-29T00:00:00Z</td>\n",
              "      <td>62</td>\n",
              "      <td>JARDIM DA PENHA</td>\n",
              "      <td>0</td>\n",
              "      <td>1</td>\n",
              "      <td>0</td>\n",
              "      <td>0</td>\n",
              "      <td>0</td>\n",
              "      <td>0</td>\n",
              "      <td>No</td>\n",
              "    </tr>\n",
              "    <tr>\n",
              "      <th>1</th>\n",
              "      <td>5.589978e+14</td>\n",
              "      <td>5642503</td>\n",
              "      <td>M</td>\n",
              "      <td>2016-04-29T16:08:27Z</td>\n",
              "      <td>2016-04-29T00:00:00Z</td>\n",
              "      <td>56</td>\n",
              "      <td>JARDIM DA PENHA</td>\n",
              "      <td>0</td>\n",
              "      <td>0</td>\n",
              "      <td>0</td>\n",
              "      <td>0</td>\n",
              "      <td>0</td>\n",
              "      <td>0</td>\n",
              "      <td>No</td>\n",
              "    </tr>\n",
              "    <tr>\n",
              "      <th>2</th>\n",
              "      <td>4.262962e+12</td>\n",
              "      <td>5642549</td>\n",
              "      <td>F</td>\n",
              "      <td>2016-04-29T16:19:04Z</td>\n",
              "      <td>2016-04-29T00:00:00Z</td>\n",
              "      <td>62</td>\n",
              "      <td>MATA DA PRAIA</td>\n",
              "      <td>0</td>\n",
              "      <td>0</td>\n",
              "      <td>0</td>\n",
              "      <td>0</td>\n",
              "      <td>0</td>\n",
              "      <td>0</td>\n",
              "      <td>No</td>\n",
              "    </tr>\n",
              "    <tr>\n",
              "      <th>3</th>\n",
              "      <td>8.679512e+11</td>\n",
              "      <td>5642828</td>\n",
              "      <td>F</td>\n",
              "      <td>2016-04-29T17:29:31Z</td>\n",
              "      <td>2016-04-29T00:00:00Z</td>\n",
              "      <td>8</td>\n",
              "      <td>PONTAL DE CAMBURI</td>\n",
              "      <td>0</td>\n",
              "      <td>0</td>\n",
              "      <td>0</td>\n",
              "      <td>0</td>\n",
              "      <td>0</td>\n",
              "      <td>0</td>\n",
              "      <td>No</td>\n",
              "    </tr>\n",
              "    <tr>\n",
              "      <th>4</th>\n",
              "      <td>8.841186e+12</td>\n",
              "      <td>5642494</td>\n",
              "      <td>F</td>\n",
              "      <td>2016-04-29T16:07:23Z</td>\n",
              "      <td>2016-04-29T00:00:00Z</td>\n",
              "      <td>56</td>\n",
              "      <td>JARDIM DA PENHA</td>\n",
              "      <td>0</td>\n",
              "      <td>1</td>\n",
              "      <td>1</td>\n",
              "      <td>0</td>\n",
              "      <td>0</td>\n",
              "      <td>0</td>\n",
              "      <td>No</td>\n",
              "    </tr>\n",
              "  </tbody>\n",
              "</table>\n",
              "</div>"
            ],
            "text/plain": [
              "      PatientId  AppointmentID Gender          ScheduledDay  \\\n",
              "0  2.987250e+13        5642903      F  2016-04-29T18:38:08Z   \n",
              "1  5.589978e+14        5642503      M  2016-04-29T16:08:27Z   \n",
              "2  4.262962e+12        5642549      F  2016-04-29T16:19:04Z   \n",
              "3  8.679512e+11        5642828      F  2016-04-29T17:29:31Z   \n",
              "4  8.841186e+12        5642494      F  2016-04-29T16:07:23Z   \n",
              "\n",
              "         AppointmentDay  Age      Neighbourhood  Scholarship  Hipertension  \\\n",
              "0  2016-04-29T00:00:00Z   62    JARDIM DA PENHA            0             1   \n",
              "1  2016-04-29T00:00:00Z   56    JARDIM DA PENHA            0             0   \n",
              "2  2016-04-29T00:00:00Z   62      MATA DA PRAIA            0             0   \n",
              "3  2016-04-29T00:00:00Z    8  PONTAL DE CAMBURI            0             0   \n",
              "4  2016-04-29T00:00:00Z   56    JARDIM DA PENHA            0             1   \n",
              "\n",
              "   Diabetes  Alcoholism  Handcap  SMS_received No-show  \n",
              "0         0           0        0             0      No  \n",
              "1         0           0        0             0      No  \n",
              "2         0           0        0             0      No  \n",
              "3         0           0        0             0      No  \n",
              "4         1           0        0             0      No  "
            ]
          },
          "execution_count": 99,
          "metadata": {},
          "output_type": "execute_result"
        }
      ],
      "source": [
        "df.head()"
      ]
    },
    {
      "cell_type": "markdown",
      "metadata": {
        "id": "OzCY1MkvTJSR"
      },
      "source": [
        "# Визуализация"
      ]
    },
    {
      "cell_type": "markdown",
      "metadata": {
        "id": "ptpoultBWCj_"
      },
      "source": [
        "### Распределение числовых признаков"
      ]
    },
    {
      "cell_type": "code",
      "execution_count": 100,
      "metadata": {
        "colab": {
          "base_uri": "https://localhost:8080/",
          "height": 877
        },
        "id": "h6WZ8PnRSUx0",
        "outputId": "a1138b19-a153-49f6-c1d9-299756897d32"
      },
      "outputs": [
        {
          "data": {
            "text/plain": [
              "{'web': 'https://www.comet.com/api/image/download?imageId=72729ca720674a2c908c346a52919a5f&experimentKey=376d0689abd446a4b2e4864f2b34ee5e',\n",
              " 'api': 'https://www.comet.com/api/rest/v1/image/get-image?imageId=72729ca720674a2c908c346a52919a5f&experimentKey=376d0689abd446a4b2e4864f2b34ee5e',\n",
              " 'imageId': '72729ca720674a2c908c346a52919a5f'}"
            ]
          },
          "execution_count": 100,
          "metadata": {},
          "output_type": "execute_result"
        },
        {
          "data": {
            "image/png": "[encoded data removed]",
            "text/plain": [
              "<Figure size 1152x1008 with 9 Axes>"
            ]
          },
          "metadata": {
            "needs_background": "light"
          },
          "output_type": "display_data"
        }
      ],
      "source": [
        "df.hist(figsize=(16,14));\n",
        "#логируем гистограмму\n",
        "experiment.log_figure(figure=plt)"
      ]
    },
    {
      "cell_type": "markdown",
      "metadata": {
        "id": "5BNTQ-1tWG2r"
      },
      "source": [
        "*Проанализируем число людей каждого возраста*"
      ]
    },
    {
      "cell_type": "code",
      "execution_count": 101,
      "metadata": {
        "colab": {
          "base_uri": "https://localhost:8080/"
        },
        "id": "RGNyu_sJTYfS",
        "outputId": "3df9516a-eee3-46a4-c8f3-82d26ebd6634"
      },
      "outputs": [
        {
          "name": "stdout",
          "output_type": "stream",
          "text": [
            "Уникальные значения в `Age` => [ 62  56   8  76  23  39  21  19  30  29  22  28  54  15  50  40  46   4\n",
            "  13  65  45  51  32  12  61  38  79  18  63  64  85  59  55  71  49  78\n",
            "  31  58  27   6   2  11   7   0   3   1  69  68  60  67  36  10  35  20\n",
            "  26  34  33  16  42   5  47  17  41  44  37  24  66  77  81  70  53  75\n",
            "  73  52  74  43  89  57  14   9  48  83  72  25  80  87  88  84  82  90\n",
            "  94  86  91  98  92  96  93  95  97 102 115 100  99  -1]\n"
          ]
        }
      ],
      "source": [
        "print(\"Уникальные значения в `Age` => {}\".format(df.Age.unique()))"
      ]
    },
    {
      "cell_type": "code",
      "execution_count": 102,
      "metadata": {
        "colab": {
          "base_uri": "https://localhost:8080/"
        },
        "id": "eb1dWovPWYjz",
        "outputId": "85c41a9d-c7fc-4114-bbbc-9e0c861d272e"
      },
      "outputs": [
        {
          "data": {
            "text/plain": [
              "0      3539\n",
              "1      2273\n",
              "52     1746\n",
              "49     1652\n",
              "53     1651\n",
              "       ... \n",
              "97       11\n",
              "98        6\n",
              "100       4\n",
              "102       2\n",
              "99        1\n",
              "Name: Age, Length: 102, dtype: int64"
            ]
          },
          "execution_count": 102,
          "metadata": {},
          "output_type": "execute_result"
        }
      ],
      "source": [
        "# Удалим аномальные значения\n",
        "df = df[(df.Age >= 0) & (df.Age <= 110)]\n",
        "df.Age.value_counts()"
      ]
    },
    {
      "cell_type": "code",
      "execution_count": 103,
      "metadata": {
        "colab": {
          "base_uri": "https://localhost:8080/",
          "height": 413
        },
        "id": "OMFj0V8NXMfe",
        "outputId": "0feefc02-6433-48f7-e647-4b63eebb0cd1"
      },
      "outputs": [
        {
          "data": {
            "image/png": "[encoded data removed]",
            "text/plain": [
              "<Figure size 1728x432 with 1 Axes>"
            ]
          },
          "metadata": {
            "needs_background": "light"
          },
          "output_type": "display_data"
        }
      ],
      "source": [
        "plt.figure(figsize=(24,6))\n",
        "plt.xticks(rotation=90)\n",
        "ax = sns.countplot(x=df.Age)\n",
        "ax.set_title(\"Распределение пациентов по возрасту\")\n",
        "experiment.log_figure(figure=plt)\n",
        "plt.show()"
      ]
    },
    {
      "cell_type": "markdown",
      "metadata": {
        "id": "kq473GcDZFek"
      },
      "source": [
        "# Придет ли пациент на назначенный приием? "
      ]
    },
    {
      "cell_type": "code",
      "execution_count": 104,
      "metadata": {
        "colab": {
          "base_uri": "https://localhost:8080/"
        },
        "id": "5oXcfkNKZjdd",
        "outputId": "ff0c57dc-7ef6-43b4-82bc-958ee2bacfcc"
      },
      "outputs": [
        {
          "name": "stdout",
          "output_type": "stream",
          "text": [
            "<class 'pandas.core.frame.DataFrame'>\n",
            "Int64Index: 110521 entries, 0 to 110526\n",
            "Data columns (total 14 columns):\n",
            " #   Column          Non-Null Count   Dtype  \n",
            "---  ------          --------------   -----  \n",
            " 0   PatientId       110521 non-null  float64\n",
            " 1   AppointmentID   110521 non-null  int64  \n",
            " 2   Gender          110521 non-null  object \n",
            " 3   ScheduledDay    110521 non-null  object \n",
            " 4   AppointmentDay  110521 non-null  object \n",
            " 5   Age             110521 non-null  int64  \n",
            " 6   Neighbourhood   110521 non-null  object \n",
            " 7   Scholarship     110521 non-null  int64  \n",
            " 8   Hipertension    110521 non-null  int64  \n",
            " 9   Diabetes        110521 non-null  int64  \n",
            " 10  Alcoholism      110521 non-null  int64  \n",
            " 11  Handcap         110521 non-null  int64  \n",
            " 12  SMS_received    110521 non-null  int64  \n",
            " 13  No-show         110521 non-null  object \n",
            "dtypes: float64(1), int64(8), object(5)\n",
            "memory usage: 12.6+ MB\n"
          ]
        }
      ],
      "source": [
        "df.info()"
      ]
    },
    {
      "cell_type": "markdown",
      "metadata": {
        "id": "24uKsoaBjH0B"
      },
      "source": [
        "## Кодировка категориальных признаков"
      ]
    },
    {
      "cell_type": "code",
      "execution_count": 105,
      "metadata": {
        "id": "1J8JAzwmjeKW"
      },
      "outputs": [],
      "source": [
        "categorical_columns_names = ['Gender', 'Neighbourhood']"
      ]
    },
    {
      "cell_type": "code",
      "execution_count": 106,
      "metadata": {
        "id": "lgOtCCRTkIle"
      },
      "outputs": [],
      "source": [
        "encoded_columns = pd.get_dummies(df, columns = categorical_columns_names)"
      ]
    },
    {
      "cell_type": "code",
      "execution_count": 107,
      "metadata": {
        "id": "okMGD3TmmGpE"
      },
      "outputs": [],
      "source": [
        "encoded_columns.drop(['AppointmentID', 'PatientId', 'ScheduledDay', 'AppointmentDay', 'No-show'], axis=1, inplace = True)"
      ]
    },
    {
      "cell_type": "code",
      "execution_count": 108,
      "metadata": {
        "colab": {
          "base_uri": "https://localhost:8080/",
          "height": 317
        },
        "id": "fNGfrwh7mtR3",
        "outputId": "9da1b29a-394e-4f76-baa9-47054f2a3b9a"
      },
      "outputs": [
        {
          "data": {
            "text/html": [
              "<div>\n",
              "<style scoped>\n",
              "    .dataframe tbody tr th:only-of-type {\n",
              "        vertical-align: middle;\n",
              "    }\n",
              "\n",
              "    .dataframe tbody tr th {\n",
              "        vertical-align: top;\n",
              "    }\n",
              "\n",
              "    .dataframe thead th {\n",
              "        text-align: right;\n",
              "    }\n",
              "</style>\n",
              "<table border=\"1\" class=\"dataframe\">\n",
              "  <thead>\n",
              "    <tr style=\"text-align: right;\">\n",
              "      <th></th>\n",
              "      <th>Age</th>\n",
              "      <th>Scholarship</th>\n",
              "      <th>Hipertension</th>\n",
              "      <th>Diabetes</th>\n",
              "      <th>Alcoholism</th>\n",
              "      <th>Handcap</th>\n",
              "      <th>SMS_received</th>\n",
              "      <th>Gender_F</th>\n",
              "      <th>Gender_M</th>\n",
              "      <th>Neighbourhood_AEROPORTO</th>\n",
              "      <th>...</th>\n",
              "      <th>Neighbourhood_SANTOS REIS</th>\n",
              "      <th>Neighbourhood_SEGURANÇA DO LAR</th>\n",
              "      <th>Neighbourhood_SOLON BORGES</th>\n",
              "      <th>Neighbourhood_SÃO BENEDITO</th>\n",
              "      <th>Neighbourhood_SÃO CRISTÓVÃO</th>\n",
              "      <th>Neighbourhood_SÃO JOSÉ</th>\n",
              "      <th>Neighbourhood_SÃO PEDRO</th>\n",
              "      <th>Neighbourhood_TABUAZEIRO</th>\n",
              "      <th>Neighbourhood_UNIVERSITÁRIO</th>\n",
              "      <th>Neighbourhood_VILA RUBIM</th>\n",
              "    </tr>\n",
              "  </thead>\n",
              "  <tbody>\n",
              "    <tr>\n",
              "      <th>0</th>\n",
              "      <td>62</td>\n",
              "      <td>0</td>\n",
              "      <td>1</td>\n",
              "      <td>0</td>\n",
              "      <td>0</td>\n",
              "      <td>0</td>\n",
              "      <td>0</td>\n",
              "      <td>1</td>\n",
              "      <td>0</td>\n",
              "      <td>0</td>\n",
              "      <td>...</td>\n",
              "      <td>0</td>\n",
              "      <td>0</td>\n",
              "      <td>0</td>\n",
              "      <td>0</td>\n",
              "      <td>0</td>\n",
              "      <td>0</td>\n",
              "      <td>0</td>\n",
              "      <td>0</td>\n",
              "      <td>0</td>\n",
              "      <td>0</td>\n",
              "    </tr>\n",
              "    <tr>\n",
              "      <th>1</th>\n",
              "      <td>56</td>\n",
              "      <td>0</td>\n",
              "      <td>0</td>\n",
              "      <td>0</td>\n",
              "      <td>0</td>\n",
              "      <td>0</td>\n",
              "      <td>0</td>\n",
              "      <td>0</td>\n",
              "      <td>1</td>\n",
              "      <td>0</td>\n",
              "      <td>...</td>\n",
              "      <td>0</td>\n",
              "      <td>0</td>\n",
              "      <td>0</td>\n",
              "      <td>0</td>\n",
              "      <td>0</td>\n",
              "      <td>0</td>\n",
              "      <td>0</td>\n",
              "      <td>0</td>\n",
              "      <td>0</td>\n",
              "      <td>0</td>\n",
              "    </tr>\n",
              "    <tr>\n",
              "      <th>2</th>\n",
              "      <td>62</td>\n",
              "      <td>0</td>\n",
              "      <td>0</td>\n",
              "      <td>0</td>\n",
              "      <td>0</td>\n",
              "      <td>0</td>\n",
              "      <td>0</td>\n",
              "      <td>1</td>\n",
              "      <td>0</td>\n",
              "      <td>0</td>\n",
              "      <td>...</td>\n",
              "      <td>0</td>\n",
              "      <td>0</td>\n",
              "      <td>0</td>\n",
              "      <td>0</td>\n",
              "      <td>0</td>\n",
              "      <td>0</td>\n",
              "      <td>0</td>\n",
              "      <td>0</td>\n",
              "      <td>0</td>\n",
              "      <td>0</td>\n",
              "    </tr>\n",
              "    <tr>\n",
              "      <th>3</th>\n",
              "      <td>8</td>\n",
              "      <td>0</td>\n",
              "      <td>0</td>\n",
              "      <td>0</td>\n",
              "      <td>0</td>\n",
              "      <td>0</td>\n",
              "      <td>0</td>\n",
              "      <td>1</td>\n",
              "      <td>0</td>\n",
              "      <td>0</td>\n",
              "      <td>...</td>\n",
              "      <td>0</td>\n",
              "      <td>0</td>\n",
              "      <td>0</td>\n",
              "      <td>0</td>\n",
              "      <td>0</td>\n",
              "      <td>0</td>\n",
              "      <td>0</td>\n",
              "      <td>0</td>\n",
              "      <td>0</td>\n",
              "      <td>0</td>\n",
              "    </tr>\n",
              "    <tr>\n",
              "      <th>4</th>\n",
              "      <td>56</td>\n",
              "      <td>0</td>\n",
              "      <td>1</td>\n",
              "      <td>1</td>\n",
              "      <td>0</td>\n",
              "      <td>0</td>\n",
              "      <td>0</td>\n",
              "      <td>1</td>\n",
              "      <td>0</td>\n",
              "      <td>0</td>\n",
              "      <td>...</td>\n",
              "      <td>0</td>\n",
              "      <td>0</td>\n",
              "      <td>0</td>\n",
              "      <td>0</td>\n",
              "      <td>0</td>\n",
              "      <td>0</td>\n",
              "      <td>0</td>\n",
              "      <td>0</td>\n",
              "      <td>0</td>\n",
              "      <td>0</td>\n",
              "    </tr>\n",
              "  </tbody>\n",
              "</table>\n",
              "<p>5 rows × 90 columns</p>\n",
              "</div>"
            ],
            "text/plain": [
              "   Age  Scholarship  Hipertension  Diabetes  Alcoholism  Handcap  \\\n",
              "0   62            0             1         0           0        0   \n",
              "1   56            0             0         0           0        0   \n",
              "2   62            0             0         0           0        0   \n",
              "3    8            0             0         0           0        0   \n",
              "4   56            0             1         1           0        0   \n",
              "\n",
              "   SMS_received  Gender_F  Gender_M  Neighbourhood_AEROPORTO  ...  \\\n",
              "0             0         1         0                        0  ...   \n",
              "1             0         0         1                        0  ...   \n",
              "2             0         1         0                        0  ...   \n",
              "3             0         1         0                        0  ...   \n",
              "4             0         1         0                        0  ...   \n",
              "\n",
              "   Neighbourhood_SANTOS REIS  Neighbourhood_SEGURANÇA DO LAR  \\\n",
              "0                          0                               0   \n",
              "1                          0                               0   \n",
              "2                          0                               0   \n",
              "3                          0                               0   \n",
              "4                          0                               0   \n",
              "\n",
              "   Neighbourhood_SOLON BORGES  Neighbourhood_SÃO BENEDITO  \\\n",
              "0                           0                           0   \n",
              "1                           0                           0   \n",
              "2                           0                           0   \n",
              "3                           0                           0   \n",
              "4                           0                           0   \n",
              "\n",
              "   Neighbourhood_SÃO CRISTÓVÃO  Neighbourhood_SÃO JOSÉ  \\\n",
              "0                            0                       0   \n",
              "1                            0                       0   \n",
              "2                            0                       0   \n",
              "3                            0                       0   \n",
              "4                            0                       0   \n",
              "\n",
              "   Neighbourhood_SÃO PEDRO  Neighbourhood_TABUAZEIRO  \\\n",
              "0                        0                         0   \n",
              "1                        0                         0   \n",
              "2                        0                         0   \n",
              "3                        0                         0   \n",
              "4                        0                         0   \n",
              "\n",
              "   Neighbourhood_UNIVERSITÁRIO  Neighbourhood_VILA RUBIM  \n",
              "0                            0                         0  \n",
              "1                            0                         0  \n",
              "2                            0                         0  \n",
              "3                            0                         0  \n",
              "4                            0                         0  \n",
              "\n",
              "[5 rows x 90 columns]"
            ]
          },
          "execution_count": 108,
          "metadata": {},
          "output_type": "execute_result"
        }
      ],
      "source": [
        "encoded_columns.head()"
      ]
    },
    {
      "cell_type": "code",
      "execution_count": 109,
      "metadata": {
        "id": "aqllZjq0Z0Rp"
      },
      "outputs": [],
      "source": [
        "y = df['No-show']"
      ]
    },
    {
      "cell_type": "code",
      "execution_count": 110,
      "metadata": {
        "colab": {
          "base_uri": "https://localhost:8080/"
        },
        "id": "q84BeK5ttWRe",
        "outputId": "b1752a6d-6ab9-48e2-d77d-e5ccc95baaff"
      },
      "outputs": [
        {
          "data": {
            "text/plain": [
              "0         No\n",
              "1         No\n",
              "2         No\n",
              "3         No\n",
              "4         No\n",
              "          ..\n",
              "110522    No\n",
              "110523    No\n",
              "110524    No\n",
              "110525    No\n",
              "110526    No\n",
              "Name: No-show, Length: 110521, dtype: object"
            ]
          },
          "execution_count": 110,
          "metadata": {},
          "output_type": "execute_result"
        }
      ],
      "source": [
        "y"
      ]
    },
    {
      "cell_type": "code",
      "execution_count": 111,
      "metadata": {
        "id": "H5wB-62WnxUY"
      },
      "outputs": [],
      "source": [
        "y = y.replace({'No': 0, 'Yes': 1})"
      ]
    },
    {
      "cell_type": "code",
      "execution_count": 112,
      "metadata": {
        "colab": {
          "base_uri": "https://localhost:8080/"
        },
        "id": "oX2skGG-odCx",
        "outputId": "a4f32ca5-3fcd-482e-842f-c85daa739eec"
      },
      "outputs": [
        {
          "data": {
            "text/plain": [
              "0    0.798084\n",
              "1    0.201916\n",
              "Name: No-show, dtype: float64"
            ]
          },
          "execution_count": 112,
          "metadata": {},
          "output_type": "execute_result"
        }
      ],
      "source": [
        "y.value_counts(True)"
      ]
    },
    {
      "cell_type": "markdown",
      "metadata": {
        "id": "HFqVvPJAnKmt"
      },
      "source": [
        "## Шкалирование данных"
      ]
    },
    {
      "cell_type": "code",
      "execution_count": 113,
      "metadata": {},
      "outputs": [],
      "source": [
        "#!pip install sklearn"
      ]
    },
    {
      "cell_type": "code",
      "execution_count": 114,
      "metadata": {
        "id": "iY4UeiB1nN0f"
      },
      "outputs": [],
      "source": [
        "from sklearn.preprocessing import MinMaxScaler"
      ]
    },
    {
      "cell_type": "code",
      "execution_count": 115,
      "metadata": {
        "id": "jOY0PfPWnVV4"
      },
      "outputs": [],
      "source": [
        "scaler = MinMaxScaler()\n",
        "X = scaler.fit_transform(encoded_columns)"
      ]
    },
    {
      "cell_type": "code",
      "execution_count": 116,
      "metadata": {
        "colab": {
          "base_uri": "https://localhost:8080/"
        },
        "id": "I5OtnT9gm8LP",
        "outputId": "17283f66-be6c-4f47-f691-c3c67c12e1d6"
      },
      "outputs": [
        {
          "name": "stdout",
          "output_type": "stream",
          "text": [
            "(110521, 90)\n"
          ]
        }
      ],
      "source": [
        "print(X.shape)"
      ]
    },
    {
      "cell_type": "markdown",
      "metadata": {
        "id": "Qo2K5d25o8bF"
      },
      "source": [
        "# Модель (этот раздел будет подробно изучен далее в курсе)"
      ]
    },
    {
      "cell_type": "code",
      "execution_count": 117,
      "metadata": {
        "id": "nZDLlWa4Z2k4"
      },
      "outputs": [],
      "source": [
        "from sklearn.linear_model import LogisticRegression\n",
        "from sklearn.metrics import accuracy_score"
      ]
    },
    {
      "cell_type": "markdown",
      "metadata": {
        "id": "XebBCLaaaN-o"
      },
      "source": [
        "### Инициализация модели"
      ]
    },
    {
      "cell_type": "code",
      "execution_count": 118,
      "metadata": {
        "id": "LQqudwBtaCRs"
      },
      "outputs": [],
      "source": [
        "logreg = LogisticRegression()"
      ]
    },
    {
      "cell_type": "code",
      "execution_count": 119,
      "metadata": {
        "id": "I6YmYYobaT-u"
      },
      "outputs": [],
      "source": [
        "random_state = 42"
      ]
    },
    {
      "cell_type": "markdown",
      "metadata": {
        "id": "A_gkA53ybxqa"
      },
      "source": [
        "### Обучение модели"
      ]
    },
    {
      "cell_type": "code",
      "execution_count": 120,
      "metadata": {
        "colab": {
          "base_uri": "https://localhost:8080/"
        },
        "id": "R1BSRYG9amr7",
        "outputId": "7b6876f8-40b4-4896-9069-5eeb20c87e96"
      },
      "outputs": [
        {
          "name": "stderr",
          "output_type": "stream",
          "text": [
            "q:\\DS\\python\\lib\\site-packages\\sklearn\\linear_model\\_logistic.py:444: ConvergenceWarning: lbfgs failed to converge (status=1):\n",
            "STOP: TOTAL NO. of ITERATIONS REACHED LIMIT.\n",
            "\n",
            "Increase the number of iterations (max_iter) or scale the data as shown in:\n",
            "    https://scikit-learn.org/stable/modules/preprocessing.html\n",
            "Please also refer to the documentation for alternative solver options:\n",
            "    https://scikit-learn.org/stable/modules/linear_model.html#logistic-regression\n",
            "  n_iter_i = _check_optimize_result(\n"
          ]
        },
        {
          "data": {
            "text/html": [
              "<style>#sk-container-id-4 {color: black;background-color: white;}#sk-container-id-4 pre{padding: 0;}#sk-container-id-4 div.sk-toggleable {background-color: white;}#sk-container-id-4 label.sk-toggleable__label {cursor: pointer;display: block;width: 100%;margin-bottom: 0;padding: 0.3em;box-sizing: border-box;text-align: center;}#sk-container-id-4 label.sk-toggleable__label-arrow:before {content: \"▸\";float: left;margin-right: 0.25em;color: #696969;}#sk-container-id-4 label.sk-toggleable__label-arrow:hover:before {color: black;}#sk-container-id-4 div.sk-estimator:hover label.sk-toggleable__label-arrow:before {color: black;}#sk-container-id-4 div.sk-toggleable__content {max-height: 0;max-width: 0;overflow: hidden;text-align: left;background-color: #f0f8ff;}#sk-container-id-4 div.sk-toggleable__content pre {margin: 0.2em;color: black;border-radius: 0.25em;background-color: #f0f8ff;}#sk-container-id-4 input.sk-toggleable__control:checked~div.sk-toggleable__content {max-height: 200px;max-width: 100%;overflow: auto;}#sk-container-id-4 input.sk-toggleable__control:checked~label.sk-toggleable__label-arrow:before {content: \"▾\";}#sk-container-id-4 div.sk-estimator input.sk-toggleable__control:checked~label.sk-toggleable__label {background-color: #d4ebff;}#sk-container-id-4 div.sk-label input.sk-toggleable__control:checked~label.sk-toggleable__label {background-color: #d4ebff;}#sk-container-id-4 input.sk-hidden--visually {border: 0;clip: rect(1px 1px 1px 1px);clip: rect(1px, 1px, 1px, 1px);height: 1px;margin: -1px;overflow: hidden;padding: 0;position: absolute;width: 1px;}#sk-container-id-4 div.sk-estimator {font-family: monospace;background-color: #f0f8ff;border: 1px dotted black;border-radius: 0.25em;box-sizing: border-box;margin-bottom: 0.5em;}#sk-container-id-4 div.sk-estimator:hover {background-color: #d4ebff;}#sk-container-id-4 div.sk-parallel-item::after {content: \"\";width: 100%;border-bottom: 1px solid gray;flex-grow: 1;}#sk-container-id-4 div.sk-label:hover label.sk-toggleable__label {background-color: #d4ebff;}#sk-container-id-4 div.sk-serial::before {content: \"\";position: absolute;border-left: 1px solid gray;box-sizing: border-box;top: 0;bottom: 0;left: 50%;z-index: 0;}#sk-container-id-4 div.sk-serial {display: flex;flex-direction: column;align-items: center;background-color: white;padding-right: 0.2em;padding-left: 0.2em;position: relative;}#sk-container-id-4 div.sk-item {position: relative;z-index: 1;}#sk-container-id-4 div.sk-parallel {display: flex;align-items: stretch;justify-content: center;background-color: white;position: relative;}#sk-container-id-4 div.sk-item::before, #sk-container-id-4 div.sk-parallel-item::before {content: \"\";position: absolute;border-left: 1px solid gray;box-sizing: border-box;top: 0;bottom: 0;left: 50%;z-index: -1;}#sk-container-id-4 div.sk-parallel-item {display: flex;flex-direction: column;z-index: 1;position: relative;background-color: white;}#sk-container-id-4 div.sk-parallel-item:first-child::after {align-self: flex-end;width: 50%;}#sk-container-id-4 div.sk-parallel-item:last-child::after {align-self: flex-start;width: 50%;}#sk-container-id-4 div.sk-parallel-item:only-child::after {width: 0;}#sk-container-id-4 div.sk-dashed-wrapped {border: 1px dashed gray;margin: 0 0.4em 0.5em 0.4em;box-sizing: border-box;padding-bottom: 0.4em;background-color: white;}#sk-container-id-4 div.sk-label label {font-family: monospace;font-weight: bold;display: inline-block;line-height: 1.2em;}#sk-container-id-4 div.sk-label-container {text-align: center;}#sk-container-id-4 div.sk-container {/* jupyter's `normalize.less` sets `[hidden] { display: none; }` but bootstrap.min.css set `[hidden] { display: none !important; }` so we also need the `!important` here to be able to override the default hidden behavior on the sphinx rendered scikit-learn.org. See: https://github.com/scikit-learn/scikit-learn/issues/21755 */display: inline-block !important;position: relative;}#sk-container-id-4 div.sk-text-repr-fallback {display: none;}</style><div id=\"sk-container-id-4\" class=\"sk-top-container\"><div class=\"sk-text-repr-fallback\"><pre>LogisticRegression()</pre><b>In a Jupyter environment, please rerun this cell to show the HTML representation or trust the notebook. <br />On GitHub, the HTML representation is unable to render, please try loading this page with nbviewer.org.</b></div><div class=\"sk-container\" hidden><div class=\"sk-item\"><div class=\"sk-estimator sk-toggleable\"><input class=\"sk-toggleable__control sk-hidden--visually\" id=\"sk-estimator-id-4\" type=\"checkbox\" checked><label for=\"sk-estimator-id-4\" class=\"sk-toggleable__label sk-toggleable__label-arrow\">LogisticRegression</label><div class=\"sk-toggleable__content\"><pre>LogisticRegression()</pre></div></div></div></div></div>"
            ],
            "text/plain": [
              "LogisticRegression()"
            ]
          },
          "execution_count": 120,
          "metadata": {},
          "output_type": "execute_result"
        }
      ],
      "source": [
        "logreg.fit(X, y)"
      ]
    },
    {
      "cell_type": "markdown",
      "metadata": {
        "id": "6YN1DZFicf4l"
      },
      "source": [
        "#### Логирование параметров обучения"
      ]
    },
    {
      "cell_type": "code",
      "execution_count": 121,
      "metadata": {
        "id": "wGADA8ercl7k"
      },
      "outputs": [],
      "source": [
        "params={\"random_state\":random_state,\n",
        "        \"model_type\":\"logreg\"\n",
        "}"
      ]
    },
    {
      "cell_type": "code",
      "execution_count": 122,
      "metadata": {
        "id": "ZOwq-iBJcsKU"
      },
      "outputs": [],
      "source": [
        "experiment.log_parameters(params)"
      ]
    },
    {
      "cell_type": "markdown",
      "metadata": {
        "id": "l4gGfkqtb4IR"
      },
      "source": [
        "### Предсказания модели"
      ]
    },
    {
      "cell_type": "code",
      "execution_count": 123,
      "metadata": {
        "id": "Z-_AH_f3b55w"
      },
      "outputs": [],
      "source": [
        "y_pred = logreg.predict(X)"
      ]
    },
    {
      "cell_type": "markdown",
      "metadata": {
        "id": "X5o9LBBab-cH"
      },
      "source": [
        "### Анализ модели"
      ]
    },
    {
      "cell_type": "code",
      "execution_count": 124,
      "metadata": {
        "colab": {
          "base_uri": "https://localhost:8080/"
        },
        "id": "uigAO6s1Z-xK",
        "outputId": "7c10a88f-14ad-48b4-b1b5-2a4ae23c46d3"
      },
      "outputs": [
        {
          "name": "stdout",
          "output_type": "stream",
          "text": [
            "Доля правильных ответов:  0.798\n"
          ]
        }
      ],
      "source": [
        "accuracy = accuracy_score(y, y_pred)\n",
        "\n",
        "print(\"Доля правильных ответов: {:6.3f}\".format(accuracy))"
      ]
    },
    {
      "cell_type": "markdown",
      "metadata": {
        "id": "nltneNyYdAcE"
      },
      "source": [
        "# Логирование метрик"
      ]
    },
    {
      "cell_type": "code",
      "execution_count": 125,
      "metadata": {
        "id": "46QiPA6jc0gQ"
      },
      "outputs": [],
      "source": [
        "metrics = {\"accuracy\":accuracy}"
      ]
    },
    {
      "cell_type": "code",
      "execution_count": 126,
      "metadata": {
        "id": "nr_zJEO_c5TY"
      },
      "outputs": [],
      "source": [
        "experiment.log_metrics(metrics)"
      ]
    },
    {
      "cell_type": "markdown",
      "metadata": {
        "id": "9U26OZqibj3P"
      },
      "source": [
        "<img src = 'https://miro.medium.com/max/1400/0*r2yYhe2DpE4d3WKP.png' width=700px>"
      ]
    },
    {
      "cell_type": "code",
      "execution_count": 127,
      "metadata": {
        "colab": {
          "base_uri": "https://localhost:8080/"
        },
        "id": "uSvXz5ESf6cf",
        "outputId": "5ad9a064-c2dd-497d-b6df-64f610e7cd63"
      },
      "outputs": [
        {
          "data": {
            "text/plain": [
              "{'web': 'https://www.comet.com/api/asset/download?assetId=23a6869ac4ae4b9ca678652d1b14f088&experimentKey=376d0689abd446a4b2e4864f2b34ee5e',\n",
              " 'api': 'https://www.comet.com/api/rest/v2/experiment/asset/get-asset?assetId=23a6869ac4ae4b9ca678652d1b14f088&experimentKey=376d0689abd446a4b2e4864f2b34ee5e',\n",
              " 'assetId': '23a6869ac4ae4b9ca678652d1b14f088'}"
            ]
          },
          "execution_count": 127,
          "metadata": {},
          "output_type": "execute_result"
        }
      ],
      "source": [
        "experiment.log_confusion_matrix(y.tolist(), y_pred.tolist())"
      ]
    },
    {
      "cell_type": "code",
      "execution_count": 128,
      "metadata": {
        "colab": {
          "base_uri": "https://localhost:8080/",
          "height": 821
        },
        "id": "lvUb-yn7gIww",
        "outputId": "44038504-1a6d-490b-9049-db1ae7efb071"
      },
      "outputs": [
        {
          "data": {
            "text/html": [
              "\n",
              "        <iframe\n",
              "            width=\"100%\"\n",
              "            height=\"800px\"\n",
              "            src=\"https://www.comet.com/medolif/medical-appointment/376d0689abd446a4b2e4864f2b34ee5e\"\n",
              "            frameborder=\"0\"\n",
              "            allowfullscreen\n",
              "            \n",
              "        ></iframe>\n",
              "        "
            ],
            "text/plain": [
              "<IPython.lib.display.IFrame at 0x21822cf5510>"
            ]
          },
          "metadata": {},
          "output_type": "display_data"
        }
      ],
      "source": [
        "experiment.display()"
      ]
    },
    {
      "cell_type": "code",
      "execution_count": 129,
      "metadata": {
        "colab": {
          "base_uri": "https://localhost:8080/"
        },
        "id": "ZNmiC0I-hIHb",
        "outputId": "0dbf7be3-ccd7-4ad5-cfc8-6e1747427431"
      },
      "outputs": [],
      "source": [
        "#experiment.end()"
      ]
    },
    {
      "cell_type": "markdown",
      "metadata": {
        "id": "5ydNwtkThhPg"
      },
      "source": [
        "# Домашнее задание"
      ]
    },
    {
      "cell_type": "markdown",
      "metadata": {
        "id": "Vit5v66shjwQ"
      },
      "source": [
        "Визуализируйте корреляцию между числовыми признаками, использованными для обучения модели и залогируйте изображение в Comet.\n",
        "\n",
        "В качестве ответа приложите обновленный ноутбук.\n",
        "\n",
        "*Форма оценки ментором:*\n",
        "\n",
        "1) Проведена визуализация корреляции между 7 числовыми признаками, использованными для обучения модели - 5 баллов\n",
        "\n",
        "2) Произведено логирование графика в CometMl - 10 баллов\n",
        "\n"
      ]
    },
    {
      "cell_type": "markdown",
      "metadata": {},
      "source": [
        "## Визуализация корреляции между 7 числовыми признаками, использованными для обучения модели"
      ]
    },
    {
      "cell_type": "code",
      "execution_count": 130,
      "metadata": {},
      "outputs": [
        {
          "name": "stdout",
          "output_type": "stream",
          "text": [
            "<class 'pandas.core.frame.DataFrame'>\n",
            "Int64Index: 110521 entries, 0 to 110526\n",
            "Data columns (total 14 columns):\n",
            " #   Column          Non-Null Count   Dtype  \n",
            "---  ------          --------------   -----  \n",
            " 0   PatientId       110521 non-null  float64\n",
            " 1   AppointmentID   110521 non-null  int64  \n",
            " 2   Gender          110521 non-null  object \n",
            " 3   ScheduledDay    110521 non-null  object \n",
            " 4   AppointmentDay  110521 non-null  object \n",
            " 5   Age             110521 non-null  int64  \n",
            " 6   Neighbourhood   110521 non-null  object \n",
            " 7   Scholarship     110521 non-null  int64  \n",
            " 8   Hipertension    110521 non-null  int64  \n",
            " 9   Diabetes        110521 non-null  int64  \n",
            " 10  Alcoholism      110521 non-null  int64  \n",
            " 11  Handcap         110521 non-null  int64  \n",
            " 12  SMS_received    110521 non-null  int64  \n",
            " 13  No-show         110521 non-null  object \n",
            "dtypes: float64(1), int64(8), object(5)\n",
            "memory usage: 12.6+ MB\n"
          ]
        }
      ],
      "source": [
        "df.info()"
      ]
    },
    {
      "cell_type": "code",
      "execution_count": 131,
      "metadata": {},
      "outputs": [
        {
          "data": {
            "text/plain": [
              "Index(['PatientId', 'AppointmentID', 'Gender', 'ScheduledDay',\n",
              "       'AppointmentDay', 'Age', 'Neighbourhood', 'Scholarship', 'Hipertension',\n",
              "       'Diabetes', 'Alcoholism', 'Handcap', 'SMS_received', 'No-show'],\n",
              "      dtype='object')"
            ]
          },
          "execution_count": 131,
          "metadata": {},
          "output_type": "execute_result"
        }
      ],
      "source": [
        "df.columns"
      ]
    },
    {
      "cell_type": "code",
      "execution_count": 132,
      "metadata": {},
      "outputs": [],
      "source": [
        "numeric = df[['Age', 'Neighbourhood', 'Scholarship', 'Hipertension', 'Diabetes', 'Alcoholism', 'Handcap', 'SMS_received']]"
      ]
    },
    {
      "cell_type": "code",
      "execution_count": 133,
      "metadata": {},
      "outputs": [
        {
          "data": {
            "image/png": "[encoded data removed]",
            "text/plain": [
              "<Figure size 1080x720 with 2 Axes>"
            ]
          },
          "metadata": {
            "needs_background": "light"
          },
          "output_type": "display_data"
        }
      ],
      "source": [
        "plt.figure(figsize=(15, 10))\n",
        "plt.xticks(rotation=90)\n",
        "ax = sns.heatmap(numeric.corr(), annot = True)\n",
        "ax.set_title(\"Корреляция числовых признаков\")\n",
        "experiment.log_figure(figure=plt)\n",
        "plt.show()"
      ]
    },
    {
      "cell_type": "markdown",
      "metadata": {},
      "source": [
        "## Логирование графика в CometMl"
      ]
    },
    {
      "cell_type": "code",
      "execution_count": 134,
      "metadata": {},
      "outputs": [
        {
          "data": {
            "text/html": [
              "\n",
              "        <iframe\n",
              "            width=\"100%\"\n",
              "            height=\"800px\"\n",
              "            src=\"https://www.comet.com/medolif/medical-appointment/376d0689abd446a4b2e4864f2b34ee5e\"\n",
              "            frameborder=\"0\"\n",
              "            allowfullscreen\n",
              "            \n",
              "        ></iframe>\n",
              "        "
            ],
            "text/plain": [
              "<IPython.lib.display.IFrame at 0x218227829e0>"
            ]
          },
          "metadata": {},
          "output_type": "display_data"
        }
      ],
      "source": [
        "experiment.display()"
      ]
    },
    {
      "cell_type": "code",
      "execution_count": 135,
      "metadata": {},
      "outputs": [
        {
          "name": "stderr",
          "output_type": "stream",
          "text": [
            "COMET INFO: ---------------------------\n",
            "COMET INFO: Comet.ml Experiment Summary\n",
            "COMET INFO: ---------------------------\n",
            "COMET INFO:   Data:\n",
            "COMET INFO:     display_summary_level : 1\n",
            "COMET INFO:     url                   : https://www.comet.com/medolif/medical-appointment/376d0689abd446a4b2e4864f2b34ee5e\n",
            "COMET INFO:   Metrics:\n",
            "COMET INFO:     accuracy : 0.7980836221170637\n",
            "COMET INFO:   Parameters:\n",
            "COMET INFO:     C                 : 1.0\n",
            "COMET INFO:     class_weight      : 1\n",
            "COMET INFO:     clip              : False\n",
            "COMET INFO:     copy              : True\n",
            "COMET INFO:     dual              : False\n",
            "COMET INFO:     feature_range     : (0, 1)\n",
            "COMET INFO:     fit_intercept     : True\n",
            "COMET INFO:     intercept_scaling : 1\n",
            "COMET INFO:     l1_ratio          : 1\n",
            "COMET INFO:     max_iter          : 100\n",
            "COMET INFO:     model_type        : logreg\n",
            "COMET INFO:     multi_class       : auto\n",
            "COMET INFO:     n_jobs            : 1\n",
            "COMET INFO:     penalty           : l2\n",
            "COMET INFO:     random_state      : 42\n",
            "COMET INFO:     solver            : lbfgs\n",
            "COMET INFO:     tol               : 0.0001\n",
            "COMET INFO:     verbose           : 0\n",
            "COMET INFO:     warm_start        : False\n",
            "COMET INFO:   Uploads:\n",
            "COMET INFO:     confusion-matrix    : 1\n",
            "COMET INFO:     environment details : 1\n",
            "COMET INFO:     figures             : 3\n",
            "COMET INFO:     filename            : 1\n",
            "COMET INFO:     git metadata        : 1\n",
            "COMET INFO:     installed packages  : 1\n",
            "COMET INFO:     notebook            : 1\n",
            "COMET INFO:     source_code         : 1\n",
            "COMET INFO: ---------------------------\n",
            "COMET INFO: Uploading 1 metrics, params and output messages\n",
            "COMET INFO: Waiting for completion of the file uploads (may take several seconds)\n",
            "COMET INFO: The Python SDK has 10800 seconds to finish before aborting...\n",
            "COMET INFO: All files uploaded, waiting for confirmation they have been all received\n"
          ]
        }
      ],
      "source": [
        "experiment.end()"
      ]
    }
  ],
  "metadata": {
    "colab": {
      "collapsed_sections": [],
      "name": "noshowappointments_cometml.ipynb",
      "provenance": []
    },
    "kernelspec": {
      "display_name": "Python 3.10.5 64-bit",
      "language": "python",
      "name": "python3"
    },
    "language_info": {
      "codemirror_mode": {
        "name": "ipython",
        "version": 3
      },
      "file_extension": ".py",
      "mimetype": "text/x-python",
      "name": "python",
      "nbconvert_exporter": "python",
      "pygments_lexer": "ipython3",
      "version": "3.10.6"
    },
    "vscode": {
      "interpreter": {
        "hash": "2b63674c9b7ae46880e5fbc616ce37f303920e93739d93769ff2cc4e880ab55f"
      }
    }
  },
  "nbformat": 4,
  "nbformat_minor": 0
}
