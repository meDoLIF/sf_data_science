{
 "cells": [
  {
   "cell_type": "code",
   "execution_count": 3,
   "metadata": {},
   "outputs": [],
   "source": [
    "import pandas as pd"
   ]
  },
  {
   "cell_type": "code",
   "execution_count": 4,
   "metadata": {},
   "outputs": [],
   "source": [
    "df = pd.read_csv('data/wine.csv')"
   ]
  },
  {
   "cell_type": "markdown",
   "metadata": {},
   "source": [
    "country — страна-производитель вина.\n",
    "\n",
    "description — подробное описание.\n",
    "\n",
    "designation — название виноградника, где выращивают виноград для вина.\n",
    "\n",
    "points — баллы, которыми WineEnthusiast оценил вино по шкале от 1 до 100.\n",
    "\n",
    "price — стоимость бутылки вина.\n",
    "\n",
    "province — провинция или штат.\n",
    "\n",
    "region_1 — винодельческий район в провинции или штате (например Напа).\n",
    "\n",
    "region_2 — конкретный регион. Иногда в пределах винодельческой зоны указываются более конкретные регионы (например Резерфорд в долине Напа), но это значение может быть пустым.\n",
    "\n",
    "taster_name — имя сомелье.\n",
    "\n",
    "taster_twitter_handle — твиттер сомелье.\n",
    "\n",
    "title — название вина, которое часто содержит год и другую подробную информацию.\n",
    "\n",
    "variety — сорт винограда, из которого изготовлено вино (например Пино Нуар).\n",
    "\n",
    "winery — винодельня, которая производила вино."
   ]
  },
  {
   "cell_type": "code",
   "execution_count": 5,
   "metadata": {},
   "outputs": [
    {
     "name": "stdout",
     "output_type": "stream",
     "text": [
      "<class 'pandas.core.frame.DataFrame'>\n",
      "RangeIndex: 129971 entries, 0 to 129970\n",
      "Data columns (total 13 columns):\n",
      " #   Column                 Non-Null Count   Dtype  \n",
      "---  ------                 --------------   -----  \n",
      " 0   country                129908 non-null  object \n",
      " 1   description            129971 non-null  object \n",
      " 2   designation            92506 non-null   object \n",
      " 3   points                 129971 non-null  int64  \n",
      " 4   price                  120975 non-null  float64\n",
      " 5   province               129908 non-null  object \n",
      " 6   region_1               108724 non-null  object \n",
      " 7   region_2               50511 non-null   object \n",
      " 8   taster_name            103727 non-null  object \n",
      " 9   taster_twitter_handle  98758 non-null   object \n",
      " 10  title                  129971 non-null  object \n",
      " 11  variety                129970 non-null  object \n",
      " 12  winery                 129971 non-null  object \n",
      "dtypes: float64(1), int64(1), object(11)\n",
      "memory usage: 12.9+ MB\n"
     ]
    }
   ],
   "source": [
    "df.info()"
   ]
  },
  {
   "cell_type": "markdown",
   "metadata": {},
   "source": [
    "Сколько всего дегустаторов приняло участие в винных обзорах?"
   ]
  },
  {
   "cell_type": "code",
   "execution_count": 6,
   "metadata": {},
   "outputs": [
    {
     "data": {
      "text/plain": [
       "19"
      ]
     },
     "execution_count": 6,
     "metadata": {},
     "output_type": "execute_result"
    }
   ],
   "source": [
    "df['taster_name'].nunique()"
   ]
  },
  {
   "cell_type": "markdown",
   "metadata": {},
   "source": [
    "Какова максимальная цена за бутылку в этом наборе данных? Введите целое число."
   ]
  },
  {
   "cell_type": "code",
   "execution_count": 7,
   "metadata": {},
   "outputs": [
    {
     "data": {
      "text/plain": [
       "3300.0"
      ]
     },
     "execution_count": 7,
     "metadata": {},
     "output_type": "execute_result"
    }
   ],
   "source": [
    "df['price'].max()"
   ]
  },
  {
   "cell_type": "markdown",
   "metadata": {},
   "source": [
    "Проанализируйте датасет на наличие дублирующихся винных обзоров. Если дублирующиеся записи есть, удалите их.\n",
    "\n",
    "В поле ниже введите, сколько дублирующихся записей вам удалось обнаружить."
   ]
  },
  {
   "cell_type": "code",
   "execution_count": 8,
   "metadata": {},
   "outputs": [
    {
     "name": "stdout",
     "output_type": "stream",
     "text": [
      "Число найденных дубликатов: 9983\n"
     ]
    }
   ],
   "source": [
    "dupl_columns = list(df.columns)\n",
    "mask = df.duplicated(subset=dupl_columns)\n",
    "df_duplicates = df[mask]\n",
    "print(f'Число найденных дубликатов: {df_duplicates.shape[0]}')"
   ]
  },
  {
   "cell_type": "code",
   "execution_count": 9,
   "metadata": {},
   "outputs": [],
   "source": [
    "df2 = df.drop_duplicates(subset=dupl_columns)"
   ]
  },
  {
   "cell_type": "code",
   "execution_count": 10,
   "metadata": {},
   "outputs": [
    {
     "name": "stdout",
     "output_type": "stream",
     "text": [
      "<class 'pandas.core.frame.DataFrame'>\n",
      "Int64Index: 119988 entries, 0 to 129970\n",
      "Data columns (total 13 columns):\n",
      " #   Column                 Non-Null Count   Dtype  \n",
      "---  ------                 --------------   -----  \n",
      " 0   country                119929 non-null  object \n",
      " 1   description            119988 non-null  object \n",
      " 2   designation            85443 non-null   object \n",
      " 3   points                 119988 non-null  int64  \n",
      " 4   price                  111593 non-null  float64\n",
      " 5   province               119929 non-null  object \n",
      " 6   region_1               100428 non-null  object \n",
      " 7   region_2               46769 non-null   object \n",
      " 8   taster_name            95071 non-null   object \n",
      " 9   taster_twitter_handle  90542 non-null   object \n",
      " 10  title                  119988 non-null  object \n",
      " 11  variety                119987 non-null  object \n",
      " 12  winery                 119988 non-null  object \n",
      "dtypes: float64(1), int64(1), object(11)\n",
      "memory usage: 12.8+ MB\n"
     ]
    }
   ],
   "source": [
    "df2.info()"
   ]
  },
  {
   "cell_type": "markdown",
   "metadata": {},
   "source": [
    "Обработайте пропущенные значения в наборе данных любым известным вам способом, который вы изучили в модуле PYTHON-14. Очистка данных.\n",
    "\n",
    "Воспользуйтесь правилами:\n",
    "\n",
    "Если какой-то из признаков имеет более 30-40 % пропусков, лучше избавьтесь от него: его заполнение может привести к сильному искажению общего распределения, а удаление записей — к большой утрате данных.\n",
    "Заполняйте данные с умом! Если перед вами количественный признак, то использование нецелого числа в качестве константы является как минимум нелогичным.\n",
    "Вы можете оставить пропуски как есть, просто заменив их на какой-то специальный символ. Например, для числовых неотрицательных признаков можно использовать число -1, а для категориальных — строку 'unknown'."
   ]
  },
  {
   "cell_type": "code",
   "execution_count": 11,
   "metadata": {},
   "outputs": [],
   "source": [
    "thresh = df2.shape[0]*0.7\n",
    "df3= df2.dropna(\n",
    "how='any',\n",
    "thresh=thresh,\n",
    "axis=1\n",
    ")"
   ]
  },
  {
   "cell_type": "code",
   "execution_count": 12,
   "metadata": {},
   "outputs": [
    {
     "name": "stdout",
     "output_type": "stream",
     "text": [
      "<class 'pandas.core.frame.DataFrame'>\n",
      "Int64Index: 119988 entries, 0 to 129970\n",
      "Data columns (total 12 columns):\n",
      " #   Column                 Non-Null Count   Dtype  \n",
      "---  ------                 --------------   -----  \n",
      " 0   country                119929 non-null  object \n",
      " 1   description            119988 non-null  object \n",
      " 2   designation            85443 non-null   object \n",
      " 3   points                 119988 non-null  int64  \n",
      " 4   price                  111593 non-null  float64\n",
      " 5   province               119929 non-null  object \n",
      " 6   region_1               100428 non-null  object \n",
      " 7   taster_name            95071 non-null   object \n",
      " 8   taster_twitter_handle  90542 non-null   object \n",
      " 9   title                  119988 non-null  object \n",
      " 10  variety                119987 non-null  object \n",
      " 11  winery                 119988 non-null  object \n",
      "dtypes: float64(1), int64(1), object(10)\n",
      "memory usage: 11.9+ MB\n"
     ]
    }
   ],
   "source": [
    "df3.info()"
   ]
  },
  {
   "cell_type": "code",
   "execution_count": null,
   "metadata": {},
   "outputs": [],
   "source": []
  }
 ],
 "metadata": {
  "interpreter": {
   "hash": "f6d789b386bb555407d9640115421a9737eac38ae04ff87cce283115793b7883"
  },
  "kernelspec": {
   "display_name": "Python 3.8.3 ('base')",
   "language": "python",
   "name": "python3"
  },
  "language_info": {
   "codemirror_mode": {
    "name": "ipython",
    "version": 3
   },
   "file_extension": ".py",
   "mimetype": "text/x-python",
   "name": "python",
   "nbconvert_exporter": "python",
   "pygments_lexer": "ipython3",
   "version": "3.8.3"
  },
  "orig_nbformat": 4
 },
 "nbformat": 4,
 "nbformat_minor": 2
}
