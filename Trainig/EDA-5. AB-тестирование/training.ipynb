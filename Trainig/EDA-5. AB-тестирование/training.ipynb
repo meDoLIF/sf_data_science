{
 "cells": [
  {
   "cell_type": "code",
   "execution_count": null,
   "metadata": {},
   "outputs": [],
   "source": []
  }
 ],
 "metadata": {
  "kernelspec": {
   "display_name": "Python 3",
   "language": "python",
   "name": "python3"
  },
  "language_info": {
   "name": "python",
   "version": "3.11.1"
  },
  "orig_nbformat": 4,
  "vscode": {
   "interpreter": {
    "hash": "e270f3343724fd25497f67a14dd2fb14477fec6bb6955e4b84f7c55353ff382b"
   }
  }
 },
 "nbformat": 4,
 "nbformat_minor": 2
}
