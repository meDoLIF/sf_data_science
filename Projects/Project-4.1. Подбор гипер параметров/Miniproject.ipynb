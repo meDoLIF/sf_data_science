{
 "cells": [
  {
   "cell_type": "code",
   "execution_count": 29,
   "metadata": {},
   "outputs": [
    {
     "name": "stderr",
     "output_type": "stream",
     "text": [
      "C:\\Users\\medol\\AppData\\Local\\Temp\\ipykernel_2016\\3730758636.py:25: MatplotlibDeprecationWarning: The seaborn styles shipped by Matplotlib are deprecated since 3.6, as they no longer correspond to the styles shipped by seaborn. However, they will remain available as 'seaborn-v0_8-<style>'. Alternatively, directly use the seaborn API instead.\n",
      "  plt.style.use('seaborn')\n"
     ]
    }
   ],
   "source": [
    "#импорт библиотек\n",
    "import numpy as np #для матричных вычислений\n",
    "import pandas as pd #для анализа и предобработки данных\n",
    "import matplotlib.pyplot as plt #для визуализации\n",
    "import seaborn as sns #для визуализации\n",
    "\n",
    "from sklearn import linear_model #линейные моделиё\n",
    "from sklearn import tree #деревья решений\n",
    "from sklearn import ensemble #ансамбли\n",
    "from sklearn import metrics #метрики\n",
    "from sklearn import preprocessing #предобработка\n",
    "from sklearn.model_selection import train_test_split #сплитование выборки\n",
    "from sklearn.model_selection import cross_val_score #Кросс валидация\n",
    "\n",
    "# Импорт оптимизаторов параметров\n",
    "from sklearn.model_selection import GridSearchCV\n",
    "from sklearn.model_selection import RandomizedSearchCV\n",
    "\n",
    "import hyperopt\n",
    "from hyperopt import hp, fmin, tpe, Trials\n",
    "\n",
    "import optuna\n",
    "\n",
    "%matplotlib inline\n",
    "plt.style.use('seaborn')"
   ]
  },
  {
   "cell_type": "markdown",
   "metadata": {},
   "source": [
    "Необходимо обучить две модели: логистическую регрессию и случайный лес. Далее нужно сделать подбор гиперпараметров с помощью базовых и продвинутых методов оптимизации. Важно использовать все четыре метода (GridSeachCV, RandomizedSearchCV, Hyperopt, Optuna) хотя бы по разу, максимальное количество итераций не должно превышать 50.\n",
    "\n",
    "В качестве метрики будем использовать F1-score."
   ]
  },
  {
   "cell_type": "code",
   "execution_count": 30,
   "metadata": {},
   "outputs": [],
   "source": [
    "df = pd.read_csv('data/_train_sem09 (1).csv')"
   ]
  },
  {
   "cell_type": "code",
   "execution_count": 31,
   "metadata": {},
   "outputs": [
    {
     "data": {
      "text/html": [
       "<div>\n",
       "<style scoped>\n",
       "    .dataframe tbody tr th:only-of-type {\n",
       "        vertical-align: middle;\n",
       "    }\n",
       "\n",
       "    .dataframe tbody tr th {\n",
       "        vertical-align: top;\n",
       "    }\n",
       "\n",
       "    .dataframe thead th {\n",
       "        text-align: right;\n",
       "    }\n",
       "</style>\n",
       "<table border=\"1\" class=\"dataframe\">\n",
       "  <thead>\n",
       "    <tr style=\"text-align: right;\">\n",
       "      <th></th>\n",
       "      <th>Activity</th>\n",
       "      <th>D1</th>\n",
       "      <th>D2</th>\n",
       "      <th>D3</th>\n",
       "      <th>D4</th>\n",
       "      <th>D5</th>\n",
       "      <th>D6</th>\n",
       "      <th>D7</th>\n",
       "      <th>D8</th>\n",
       "      <th>D9</th>\n",
       "      <th>...</th>\n",
       "      <th>D1767</th>\n",
       "      <th>D1768</th>\n",
       "      <th>D1769</th>\n",
       "      <th>D1770</th>\n",
       "      <th>D1771</th>\n",
       "      <th>D1772</th>\n",
       "      <th>D1773</th>\n",
       "      <th>D1774</th>\n",
       "      <th>D1775</th>\n",
       "      <th>D1776</th>\n",
       "    </tr>\n",
       "  </thead>\n",
       "  <tbody>\n",
       "    <tr>\n",
       "      <th>0</th>\n",
       "      <td>1</td>\n",
       "      <td>0.000000</td>\n",
       "      <td>0.497009</td>\n",
       "      <td>0.10</td>\n",
       "      <td>0.0</td>\n",
       "      <td>0.132956</td>\n",
       "      <td>0.678031</td>\n",
       "      <td>0.273166</td>\n",
       "      <td>0.585445</td>\n",
       "      <td>0.743663</td>\n",
       "      <td>...</td>\n",
       "      <td>0</td>\n",
       "      <td>0</td>\n",
       "      <td>0</td>\n",
       "      <td>0</td>\n",
       "      <td>0</td>\n",
       "      <td>0</td>\n",
       "      <td>0</td>\n",
       "      <td>0</td>\n",
       "      <td>0</td>\n",
       "      <td>0</td>\n",
       "    </tr>\n",
       "    <tr>\n",
       "      <th>1</th>\n",
       "      <td>1</td>\n",
       "      <td>0.366667</td>\n",
       "      <td>0.606291</td>\n",
       "      <td>0.05</td>\n",
       "      <td>0.0</td>\n",
       "      <td>0.111209</td>\n",
       "      <td>0.803455</td>\n",
       "      <td>0.106105</td>\n",
       "      <td>0.411754</td>\n",
       "      <td>0.836582</td>\n",
       "      <td>...</td>\n",
       "      <td>1</td>\n",
       "      <td>1</td>\n",
       "      <td>1</td>\n",
       "      <td>1</td>\n",
       "      <td>0</td>\n",
       "      <td>1</td>\n",
       "      <td>0</td>\n",
       "      <td>0</td>\n",
       "      <td>1</td>\n",
       "      <td>0</td>\n",
       "    </tr>\n",
       "    <tr>\n",
       "      <th>2</th>\n",
       "      <td>1</td>\n",
       "      <td>0.033300</td>\n",
       "      <td>0.480124</td>\n",
       "      <td>0.00</td>\n",
       "      <td>0.0</td>\n",
       "      <td>0.209791</td>\n",
       "      <td>0.610350</td>\n",
       "      <td>0.356453</td>\n",
       "      <td>0.517720</td>\n",
       "      <td>0.679051</td>\n",
       "      <td>...</td>\n",
       "      <td>0</td>\n",
       "      <td>0</td>\n",
       "      <td>0</td>\n",
       "      <td>0</td>\n",
       "      <td>0</td>\n",
       "      <td>0</td>\n",
       "      <td>0</td>\n",
       "      <td>0</td>\n",
       "      <td>0</td>\n",
       "      <td>0</td>\n",
       "    </tr>\n",
       "    <tr>\n",
       "      <th>3</th>\n",
       "      <td>1</td>\n",
       "      <td>0.000000</td>\n",
       "      <td>0.538825</td>\n",
       "      <td>0.00</td>\n",
       "      <td>0.5</td>\n",
       "      <td>0.196344</td>\n",
       "      <td>0.724230</td>\n",
       "      <td>0.235606</td>\n",
       "      <td>0.288764</td>\n",
       "      <td>0.805110</td>\n",
       "      <td>...</td>\n",
       "      <td>0</td>\n",
       "      <td>0</td>\n",
       "      <td>0</td>\n",
       "      <td>0</td>\n",
       "      <td>0</td>\n",
       "      <td>0</td>\n",
       "      <td>0</td>\n",
       "      <td>0</td>\n",
       "      <td>0</td>\n",
       "      <td>0</td>\n",
       "    </tr>\n",
       "    <tr>\n",
       "      <th>4</th>\n",
       "      <td>0</td>\n",
       "      <td>0.100000</td>\n",
       "      <td>0.517794</td>\n",
       "      <td>0.00</td>\n",
       "      <td>0.0</td>\n",
       "      <td>0.494734</td>\n",
       "      <td>0.781422</td>\n",
       "      <td>0.154361</td>\n",
       "      <td>0.303809</td>\n",
       "      <td>0.812646</td>\n",
       "      <td>...</td>\n",
       "      <td>0</td>\n",
       "      <td>0</td>\n",
       "      <td>0</td>\n",
       "      <td>0</td>\n",
       "      <td>0</td>\n",
       "      <td>0</td>\n",
       "      <td>0</td>\n",
       "      <td>0</td>\n",
       "      <td>0</td>\n",
       "      <td>0</td>\n",
       "    </tr>\n",
       "  </tbody>\n",
       "</table>\n",
       "<p>5 rows × 1777 columns</p>\n",
       "</div>"
      ],
      "text/plain": [
       "   Activity        D1        D2    D3   D4        D5        D6        D7  \\\n",
       "0         1  0.000000  0.497009  0.10  0.0  0.132956  0.678031  0.273166   \n",
       "1         1  0.366667  0.606291  0.05  0.0  0.111209  0.803455  0.106105   \n",
       "2         1  0.033300  0.480124  0.00  0.0  0.209791  0.610350  0.356453   \n",
       "3         1  0.000000  0.538825  0.00  0.5  0.196344  0.724230  0.235606   \n",
       "4         0  0.100000  0.517794  0.00  0.0  0.494734  0.781422  0.154361   \n",
       "\n",
       "         D8        D9  ...  D1767  D1768  D1769  D1770  D1771  D1772  D1773  \\\n",
       "0  0.585445  0.743663  ...      0      0      0      0      0      0      0   \n",
       "1  0.411754  0.836582  ...      1      1      1      1      0      1      0   \n",
       "2  0.517720  0.679051  ...      0      0      0      0      0      0      0   \n",
       "3  0.288764  0.805110  ...      0      0      0      0      0      0      0   \n",
       "4  0.303809  0.812646  ...      0      0      0      0      0      0      0   \n",
       "\n",
       "   D1774  D1775  D1776  \n",
       "0      0      0      0  \n",
       "1      0      1      0  \n",
       "2      0      0      0  \n",
       "3      0      0      0  \n",
       "4      0      0      0  \n",
       "\n",
       "[5 rows x 1777 columns]"
      ]
     },
     "execution_count": 31,
     "metadata": {},
     "output_type": "execute_result"
    }
   ],
   "source": [
    "#проверим что датасет сформировался корректно\n",
    "df.head()"
   ]
  },
  {
   "cell_type": "markdown",
   "metadata": {},
   "source": [
    "* Первый столбец Activity содержит экспериментальные данные, описывающие фактический биологический ответ [0, 1]; (Целевой признак)\n",
    "* Остальные столбцы D1-D1776 представляют собой молекулярные дескрипторы — это вычисляемые свойства, которые могут фиксировать некоторые характеристики молекулы, например размер, форму или состав элементов."
   ]
  },
  {
   "cell_type": "code",
   "execution_count": 32,
   "metadata": {},
   "outputs": [
    {
     "name": "stdout",
     "output_type": "stream",
     "text": [
      "Размер df (3751, 1777)\n",
      "Размер X (3751, 1776)\n",
      "Размер y (3751,)\n"
     ]
    }
   ],
   "source": [
    "# Разобъём наши данные на Зависимые (y) и Независимые (X)\n",
    "\n",
    "X = df.drop(['Activity'], axis = 1)\n",
    "y = df['Activity']\n",
    "\n",
    "#Проверим по размерам выборок что разделение прошло успешно\n",
    "\n",
    "print('Размер df', df.shape)\n",
    "print('Размер X', X.shape)\n",
    "print('Размер y', y.shape)"
   ]
  },
  {
   "cell_type": "code",
   "execution_count": 33,
   "metadata": {},
   "outputs": [
    {
     "data": {
      "text/plain": [
       "1    0.542255\n",
       "0    0.457745\n",
       "Name: Activity, dtype: float64"
      ]
     },
     "execution_count": 33,
     "metadata": {},
     "output_type": "execute_result"
    }
   ],
   "source": [
    "#Проверим, насколько равномерно разделены целевые данные, чтобы определить необходимость в стратификации при разделении на тренировочную и тестовую выборки\n",
    "\n",
    "y.value_counts(normalize=True)"
   ]
  },
  {
   "cell_type": "markdown",
   "metadata": {},
   "source": [
    "Данные разделены примерно поровну, поэтому делать стратификацию не обязательно"
   ]
  },
  {
   "cell_type": "code",
   "execution_count": 34,
   "metadata": {},
   "outputs": [],
   "source": [
    "#Разделим данные на тренировочные и тестовые\n",
    "\n",
    "X_train, X_test, y_train, y_test = train_test_split(X, y, test_size = 0.2, random_state= 42)"
   ]
  },
  {
   "cell_type": "markdown",
   "metadata": {},
   "source": [
    "# Создание BaseLine моделей\n",
    "\n",
    "Высчитаем F1-score для моделей Логистической регрессии и Случайном лесе на параметрах по умолчанию"
   ]
  },
  {
   "cell_type": "code",
   "execution_count": 35,
   "metadata": {},
   "outputs": [
    {
     "name": "stderr",
     "output_type": "stream",
     "text": [
      "c:\\Users\\medol\\AppData\\Local\\Programs\\Python\\Python310\\lib\\site-packages\\sklearn\\linear_model\\_logistic.py:444: ConvergenceWarning: lbfgs failed to converge (status=1):\n",
      "STOP: TOTAL NO. of ITERATIONS REACHED LIMIT.\n",
      "\n",
      "Increase the number of iterations (max_iter) or scale the data as shown in:\n",
      "    https://scikit-learn.org/stable/modules/preprocessing.html\n",
      "Please also refer to the documentation for alternative solver options:\n",
      "    https://scikit-learn.org/stable/modules/linear_model.html#logistic-regression\n",
      "  n_iter_i = _check_optimize_result(\n"
     ]
    }
   ],
   "source": [
    "#Baseline для логистической регрессии\n",
    "logReg_base = linear_model.LogisticRegression(random_state=42, max_iter= 50)\n",
    "\n",
    "logReg_base.fit(X_train, y_train)\n",
    "\n",
    "y_pred_logReg_base = logReg_base.predict(X_test)\n",
    "\n",
    "f1_logReg_base = metrics.f1_score(y_test, y_pred_logReg_base)"
   ]
  },
  {
   "cell_type": "code",
   "execution_count": 36,
   "metadata": {},
   "outputs": [
    {
     "name": "stdout",
     "output_type": "stream",
     "text": [
      "F1-score на Baseline для логистической регресии равен 0.79\n"
     ]
    }
   ],
   "source": [
    "print('F1-score на Baseline для логистической регресии равен {:.2f}'.format(f1_logReg_base))"
   ]
  },
  {
   "cell_type": "code",
   "execution_count": 37,
   "metadata": {},
   "outputs": [],
   "source": [
    "#Baseline для случайного леса\n",
    "\n",
    "rf_base = ensemble.RandomForestClassifier(random_state= 42)\n",
    "\n",
    "rf_base.fit(X_train, y_train)\n",
    "\n",
    "y_pred_rf_base = rf_base.predict(X_test)\n",
    "\n",
    "f1_rf_base = metrics.f1_score(y_test, y_pred_rf_base)\n"
   ]
  },
  {
   "cell_type": "code",
   "execution_count": 38,
   "metadata": {},
   "outputs": [
    {
     "name": "stdout",
     "output_type": "stream",
     "text": [
      "F1-score на Baseline для случайного леса равен 0.83\n"
     ]
    }
   ],
   "source": [
    "print('F1-score на Baseline для случайного леса равен {:.2f}'.format(f1_rf_base))"
   ]
  },
  {
   "cell_type": "markdown",
   "metadata": {},
   "source": [
    "# Построение модели с помощью GridSearchCV"
   ]
  },
  {
   "cell_type": "markdown",
   "metadata": {},
   "source": [
    "## На основе логистической регресии"
   ]
  },
  {
   "cell_type": "code",
   "execution_count": 39,
   "metadata": {},
   "outputs": [
    {
     "name": "stdout",
     "output_type": "stream",
     "text": [
      "CPU times: total: 10.1 s\n",
      "Wall time: 7min 30s\n"
     ]
    }
   ],
   "source": [
    "param_grid = [\n",
    "    {'penalty' : ['l2', 'none'], # тип регуляризации\n",
    "    'solver' : ['newton-cg', 'lbfgs', 'sag'], # алгоритм оптимизации\n",
    "    'C' : [0.01, 0.1, 0.3, 0.5, 0.7, 0.9, 1]}, # уровень силы регурялизации\n",
    "    #поскольку разные алгоритмы поддерживают разные типы регуляризации мы создадим еще 1 набор параметров\n",
    "    \n",
    "    {'penalty': ['l1', 'l2'] ,\n",
    "    'solver': ['liblinear', 'saga'],\n",
    "    'C': [0.01, 0.1, 0.3, 0.5, 0.7, 0.9, 1]}\n",
    "]\n",
    "\n",
    "gs_logReg = GridSearchCV(\n",
    "    estimator = linear_model.LogisticRegression(random_state= 42, max_iter = 50),\n",
    "    param_grid = param_grid,\n",
    "    cv = 5,\n",
    "    n_jobs = -1,\n",
    "    scoring='f1'\n",
    ")\n",
    "\n",
    "%time gs_logReg.fit(X_train, y_train)\n",
    "\n",
    "y_pred_gs_logReg = gs_logReg.predict(X_test)\n",
    "\n",
    "f1_gs_logReg = metrics.f1_score(y_test, y_pred_gs_logReg)"
   ]
  },
  {
   "cell_type": "code",
   "execution_count": 40,
   "metadata": {},
   "outputs": [
    {
     "name": "stdout",
     "output_type": "stream",
     "text": [
      "Наилучшие значения гиперпараметров: {'C': 0.1, 'penalty': 'l2', 'solver': 'newton-cg'}\n"
     ]
    }
   ],
   "source": [
    "print(\"Наилучшие значения гиперпараметров: {}\".format(gs_logReg.best_params_))"
   ]
  },
  {
   "cell_type": "code",
   "execution_count": 41,
   "metadata": {},
   "outputs": [
    {
     "data": {
      "image/png": "[encoded data removed]",
      "text/plain": [
       "<Figure size 800x550 with 2 Axes>"
      ]
     },
     "metadata": {},
     "output_type": "display_data"
    }
   ],
   "source": [
    "# отрисуем, как менялась точность при различных гиперпараметрах\n",
    "visual = pd.pivot_table(pd.DataFrame(gs_logReg.cv_results_),\n",
    "                        values='mean_test_score', index='param_C',\n",
    "                        columns='param_solver')\n",
    "sns.heatmap(visual)\n",
    "plt.title('Тепловая карта зависимости метрики accuracy от solver и С') # подпись графика\n",
    "sns.set(rc={'figure.figsize':(12, 8)}) #задаем размер графика"
   ]
  },
  {
   "cell_type": "markdown",
   "metadata": {},
   "source": [
    "Из тепловой карты видно, что нет смысла пробовать создать модель с большей силой регуляризации"
   ]
  },
  {
   "cell_type": "code",
   "execution_count": 42,
   "metadata": {},
   "outputs": [
    {
     "name": "stdout",
     "output_type": "stream",
     "text": [
      "F1-score на Baseline для логистической регресии равен 0.79\n",
      "F1-score на GridSearchCV для логистической регресии равен 0.79\n"
     ]
    }
   ],
   "source": [
    "#Сравним результат с BaseLine\n",
    "print('F1-score на Baseline для логистической регресии равен {:.2f}'.format(f1_logReg_base))\n",
    "print('F1-score на GridSearchCV для логистической регресии равен {:.2f}'.format(f1_gs_logReg))"
   ]
  },
  {
   "cell_type": "markdown",
   "metadata": {},
   "source": [
    "К сожалению получить показатель лучше чем BaseLine не удалось"
   ]
  },
  {
   "cell_type": "markdown",
   "metadata": {},
   "source": [
    "## На основе Случайного Леса"
   ]
  },
  {
   "cell_type": "code",
   "execution_count": 43,
   "metadata": {},
   "outputs": [
    {
     "name": "stdout",
     "output_type": "stream",
     "text": [
      "CPU times: total: 34 s\n",
      "Wall time: 25min 3s\n"
     ]
    }
   ],
   "source": [
    "param_grid = {\n",
    "    'min_samples_leaf' : list(np.linspace(5, 25, 10, dtype=int)),\n",
    "    'max_depth' : list(np.linspace(1, 30, 6, dtype = int)),\n",
    "    'n_estimators' : list(np.linspace(80,200, 30, dtype = int))\n",
    "}\n",
    "\n",
    "gs_rf = GridSearchCV(\n",
    "    estimator= ensemble.RandomForestClassifier(random_state= 42),\n",
    "    param_grid= param_grid,\n",
    "    cv = 5,\n",
    "    n_jobs= -1,\n",
    "    scoring = 'f1'\n",
    ")\n",
    "\n",
    "%time gs_rf.fit(X_train, y_train)\n",
    "\n",
    "f1_gs_rf = gs_rf.score(X_test, y_test)"
   ]
  },
  {
   "cell_type": "code",
   "execution_count": 44,
   "metadata": {},
   "outputs": [
    {
     "name": "stdout",
     "output_type": "stream",
     "text": [
      "Наилучшие значения гиперпараметров: {'max_depth': 30, 'min_samples_leaf': 5, 'n_estimators': 100}\n"
     ]
    }
   ],
   "source": [
    "print(\"Наилучшие значения гиперпараметров: {}\".format(gs_rf.best_params_))"
   ]
  },
  {
   "cell_type": "code",
   "execution_count": 45,
   "metadata": {},
   "outputs": [
    {
     "name": "stdout",
     "output_type": "stream",
     "text": [
      "F1-score на Baseline для случайного леса равен 0.83\n",
      "F1-score на GridResearchCV для случайного леса равен 0.83\n"
     ]
    }
   ],
   "source": [
    "print('F1-score на Baseline для случайного леса равен {:.2f}'.format(f1_rf_base))\n",
    "print('F1-score на GridResearchCV для случайного леса равен {:.2f}'.format(f1_gs_rf))"
   ]
  },
  {
   "cell_type": "markdown",
   "metadata": {},
   "source": [
    "К сожалению получить показатель лучше чем BaseLine не удалось"
   ]
  },
  {
   "cell_type": "markdown",
   "metadata": {},
   "source": [
    "# RandomizedSearchCV"
   ]
  },
  {
   "cell_type": "markdown",
   "metadata": {},
   "source": [
    "## Логистическая регрессия"
   ]
  },
  {
   "cell_type": "code",
   "execution_count": 46,
   "metadata": {},
   "outputs": [
    {
     "name": "stdout",
     "output_type": "stream",
     "text": [
      "CPU times: total: 2.69 s\n",
      "Wall time: 3min 13s\n"
     ]
    }
   ],
   "source": [
    "param_distribution = [\n",
    "    {'penalty' : ['l2', 'none'], # тип регуляризации\n",
    "    'solver' : ['newton-cg', 'lbfgs', 'sag'], # алгоритм оптимизации\n",
    "    'C': list(np.linspace(0.01, 1, 10, dtype=float))}, # уровень силы регурялизации\n",
    "    #поскольку разные алгоритмы поддерживают разные типы регуляризации мы создадим еще 1 набор параметров\n",
    "    \n",
    "    {'penalty': ['l1', 'l2'] ,\n",
    "    'solver': ['liblinear', 'saga'],\n",
    "    'C': list(np.linspace(0.01, 1, 10, dtype=float))}\n",
    "]\n",
    "\n",
    "rs_logReg = RandomizedSearchCV(\n",
    "    estimator= linear_model.LogisticRegression(random_state=42, max_iter=50),\n",
    "    param_distributions=param_distribution,\n",
    "    cv = 5,\n",
    "    n_iter= 50,\n",
    "    n_jobs= -1,\n",
    "    scoring='f1'\n",
    ")\n",
    "\n",
    "%time rs_logReg.fit(X_train, y_train)\n",
    "\n",
    "f1_rs_logReg = rs_logReg.score(X_test, y_test)"
   ]
  },
  {
   "cell_type": "code",
   "execution_count": 47,
   "metadata": {},
   "outputs": [
    {
     "name": "stdout",
     "output_type": "stream",
     "text": [
      "Наилучшие значения гиперпараметров: {'solver': 'liblinear', 'penalty': 'l1', 'C': 0.56}\n"
     ]
    }
   ],
   "source": [
    "print(\"Наилучшие значения гиперпараметров: {}\".format(rs_logReg.best_params_))"
   ]
  },
  {
   "cell_type": "code",
   "execution_count": 48,
   "metadata": {},
   "outputs": [
    {
     "name": "stdout",
     "output_type": "stream",
     "text": [
      "F1-score на Baseline для логистической регресии равен 0.79\n",
      "F1-score на RandomizedSrearchCV для логистической регресии равен 0.80\n"
     ]
    }
   ],
   "source": [
    "#Сравним результат с BaseLine\n",
    "print('F1-score на Baseline для логистической регресии равен {:.2f}'.format(f1_logReg_base))\n",
    "print('F1-score на RandomizedSrearchCV для логистической регресии равен {:.2f}'.format(f1_rs_logReg))"
   ]
  },
  {
   "cell_type": "markdown",
   "metadata": {},
   "source": [
    "## Случайный лес"
   ]
  },
  {
   "cell_type": "code",
   "execution_count": 49,
   "metadata": {},
   "outputs": [],
   "source": [
    "param_distribution = {\n",
    "    'min_samples_leaf' : list(np.linspace(5, 25, 10, dtype=int)),\n",
    "    'max_depth' : list(np.linspace(1, 30, 6, dtype = int)),\n",
    "    'n_estimators' : list(np.linspace(80,200, 30, dtype = int))\n",
    "}\n",
    "\n",
    "rs_rf = RandomizedSearchCV(\n",
    "    estimator=ensemble.RandomForestClassifier(random_state=42),\n",
    "    param_distributions=param_distribution,\n",
    "    cv = 5,\n",
    "    n_iter = 50,\n",
    "    n_jobs= -1,\n",
    "    scoring= 'f1'\n",
    ")\n",
    "\n",
    "rs_rf.fit(X_train, y_train)\n",
    "\n",
    "f1_rs_rf = rs_rf.score(X_test, y_test)"
   ]
  },
  {
   "cell_type": "code",
   "execution_count": 50,
   "metadata": {},
   "outputs": [
    {
     "name": "stdout",
     "output_type": "stream",
     "text": [
      "Наилучшие значения гиперпараметров: {'n_estimators': 183, 'min_samples_leaf': 5, 'max_depth': 24}\n"
     ]
    }
   ],
   "source": [
    "print(\"Наилучшие значения гиперпараметров: {}\".format(rs_rf.best_params_))"
   ]
  },
  {
   "cell_type": "code",
   "execution_count": 51,
   "metadata": {},
   "outputs": [
    {
     "name": "stdout",
     "output_type": "stream",
     "text": [
      "F1-score на Baseline для случайного леса равен 0.83\n",
      "F1-score на RandomizedSrearchCV для случайного леса равен 0.83\n"
     ]
    }
   ],
   "source": [
    "#Сравним результат с BaseLine\n",
    "print('F1-score на Baseline для случайного леса равен {:.2f}'.format(f1_rf_base))\n",
    "print('F1-score на RandomizedSrearchCV для случайного леса равен {:.2f}'.format(f1_rs_rf))"
   ]
  },
  {
   "cell_type": "markdown",
   "metadata": {},
   "source": [
    "# HyperOpt"
   ]
  },
  {
   "cell_type": "markdown",
   "metadata": {},
   "source": [
    "## Логистическая регрессия"
   ]
  },
  {
   "cell_type": "code",
   "execution_count": 52,
   "metadata": {},
   "outputs": [
    {
     "data": {
      "text/plain": [
       "\"space = [\\n    {'penalty' : hp.choice(label='penalty', options= ['l2', 'none']), # тип регуляризации\\n    'solver' : hp.choice(label = 'solver', options= ['newton-cg', 'lbfgs', 'sag']), # алгоритм оптимизации\\n    'C' : hp.loguniform('C', low = -2*np.log(10), high = 1)}, # уровень силы регурялизации\\n    #поскольку разные алгоритмы поддерживают разные типы регуляризации мы создадим еще 1 набор параметров\\n    \\n    {'penalty': hp.choice(label='penalty', options= ['l1', 'l2']) ,\\n    'solver': hp.choice(label = 'solver', options= ['liblinear', 'saga']),\\n    'C': hp.loguniform('C', low = -2*np.log(10), high = 1)}\\n]\""
      ]
     },
     "execution_count": 52,
     "metadata": {},
     "output_type": "execute_result"
    }
   ],
   "source": [
    "#зададим пространство поиска гиперпараметров\n",
    "\"\"\"space = [\n",
    "    {'penalty' : hp.choice(label='penalty', options= ['l2', 'none']), # тип регуляризации\n",
    "    'solver' : hp.choice(label = 'solver', options= ['newton-cg', 'lbfgs', 'sag']), # алгоритм оптимизации\n",
    "    'C' : hp.loguniform('C', low = -2*np.log(10), high = 1)}, # уровень силы регурялизации\n",
    "    #поскольку разные алгоритмы поддерживают разные типы регуляризации мы создадим еще 1 набор параметров\n",
    "    \n",
    "    {'penalty': hp.choice(label='penalty', options= ['l1', 'l2']) ,\n",
    "    'solver': hp.choice(label = 'solver', options= ['liblinear', 'saga']),\n",
    "    'C': hp.loguniform('C', low = -2*np.log(10), high = 1)}\n",
    "]\"\"\""
   ]
  },
  {
   "cell_type": "code",
   "execution_count": 53,
   "metadata": {},
   "outputs": [
    {
     "name": "stdout",
     "output_type": "stream",
     "text": [
      "Версия Hyperopt : 0.2.7\n"
     ]
    }
   ],
   "source": [
    "print(\"Версия Hyperopt : {}\".format(hyperopt.__version__))"
   ]
  },
  {
   "cell_type": "markdown",
   "metadata": {},
   "source": [
    "space ={\n",
    "    'penalty' : hp.choice(label='penalty', options= ['l2', 'none']), # тип регуляризации\n",
    "    'solver' : hp.choice(label = 'solver', options= ['newton-cg', 'lbfgs', 'sag']), # алгоритм оптимизации\n",
    "    'C' : hp.loguniform(label='C', low=-2*np.log(10), high=2*np.log(10))}, # уровень силы регурялизации"
   ]
  },
  {
   "cell_type": "markdown",
   "metadata": {},
   "source": [
    "random_state = 42\n",
    "\n",
    "def hyperopt_lr(params, cv = 5, X = X_train, y = y_train, random_state = random_state):\n",
    "    params = {\n",
    "        'penalty' : hp.choice(label='penalty', options= ['l2', 'none']), # тип регуляризации\n",
    "        'solver' : hp.choice(label = 'solver', options= ['newton-cg', 'lbfgs', 'sag']), # алгоритм оптимизации\n",
    "        'C' : hp.loguniform(label='C', low=-2*np.log(10), high=2*np.log(10))\n",
    "    }\n",
    "    \n",
    "    model = linear_model.LogisticRegression(**params, random_state = random_state)\n",
    "    \n",
    "    model.fit(X, y)\n",
    "    \n",
    "    score = cross_val_score(model, X, y, cv=cv, scoring=\"f1\", n_jobs=-1).mean()\n",
    "    \n",
    "    return -score"
   ]
  },
  {
   "cell_type": "markdown",
   "metadata": {},
   "source": [
    "%time\n",
    "\n",
    "trials = Trials()\n",
    "\n",
    "best = fmin(hyperopt_lr, #наша функция\n",
    "    space = space, #Пространство параметров\n",
    "    max_evals= 50, #Количество итераций\n",
    "    trials = trials,# логирование результатов\n",
    "    rstate = np.random.default_rng(random_state)\n",
    ")\n",
    "\n",
    "print('Наилучшие параметры {}'.format(best))"
   ]
  },
  {
   "cell_type": "code",
   "execution_count": 54,
   "metadata": {},
   "outputs": [
    {
     "name": "stdout",
     "output_type": "stream",
     "text": [
      "CPU times: total: 0 ns\n",
      "Wall time: 0 ns\n",
      "100%|██████████| 50/50 [06:17<00:00,  7.56s/trial, best loss: -0.7916411179230474]\n",
      "Наилучшие значения гиперпараметров {'C': 0.028670415126948956, 'penalty': 0, 'solver': 0}\n"
     ]
    }
   ],
   "source": [
    "# зададим пространство поиска гиперпараметров - получится 3 набора, так как для каждого типа регуляции подходят только определённые алгоритмы оптимизации\n",
    "space = {'penalty': hp.choice(label='penalty', options=['l2', 'none']) , # тип регуляризации\n",
    "              'solver': hp.choice(label='solver', options=['lbfgs', 'sag', 'newton-cg']), # алгоритм оптимизации\n",
    "              'C': hp.uniform('C', 0.01, 1)\n",
    "              } # алгоритм оптимизации\n",
    "\n",
    "# зафиксируем random_state\n",
    "random_state = 42\n",
    "\n",
    "def hyperopt(space, cv=5, X=X, y=y, random_state=random_state):\n",
    "    \"\"\" Функция, обучающая модель LogisticRegression\n",
    "    по переданным гиперпараметрам\n",
    "\n",
    "    Args:\n",
    "        space (dict): набор гиперпараметров\n",
    "        cv (int, optional=5): Количество холдов кросс-валидации. Defaults to 5.\n",
    "        X (DataFrame): DataFrame с признаками. Defaults to X_train.\n",
    "        y (Series): Series с целевым признаком. Defaults to y_train.\n",
    "        random_state (int): Рандомное число для воспроизводимости результата. Defaults to random_state.\n",
    "\n",
    "    Returns:\n",
    "        score(float): метрика F1\n",
    "    \"\"\"\n",
    "    try:\n",
    "        model=linear_model.LogisticRegression(\n",
    "        penalty = space['penalty'],\n",
    "        solver = space['solver'],\n",
    "        C=np.abs(float(space['C'])),\n",
    "        l1_ratio=float(space['l1_ratio']),\n",
    "        random_state=random_state,\n",
    "        max_iter=50        \n",
    "    )        \n",
    "    except KeyError:\n",
    "          \n",
    "        model=linear_model.LogisticRegression(\n",
    "        penalty = space['penalty'],\n",
    "        solver = space['solver'],\n",
    "        C=np.abs(float(space['C'])),\n",
    "        random_state=random_state,\n",
    "        max_iter=50\n",
    "           )\n",
    "        \n",
    "     \n",
    "    # применим  cross validation \n",
    "    score = cross_val_score(model, X, y, cv=cv, scoring=\"f1\", n_jobs=-1).mean()\n",
    "    # метрику необходимо минимизировать, поэтому ставим знак минус\n",
    "    return -score\n",
    "\n",
    "\n",
    "\n",
    "%time\n",
    "              \n",
    "trials = Trials() # используется для логирования результатов  \n",
    "\n",
    "best=fmin(hyperopt, # наша функция \n",
    "          space=space, # пространство гиперпараметров\n",
    "          algo=tpe.suggest, # алгоритм оптимизации, установлен по умолчанию, задавать необязательно\n",
    "          max_evals=50, # максимальное количество итераций\n",
    "          trials=trials, # логирование результатов\n",
    "          rstate=np.random.default_rng(random_state)# фиксируем для повторяемости результата\n",
    "         )\n",
    "print(f'Наилучшие значения гиперпараметров {best}')"
   ]
  },
  {
   "cell_type": "code",
   "execution_count": 55,
   "metadata": {},
   "outputs": [
    {
     "data": {
      "text/plain": [
       "{'C': 0.028670415126948956, 'penalty': 'l2', 'solver': 'lbfgs'}"
      ]
     },
     "execution_count": 55,
     "metadata": {},
     "output_type": "execute_result"
    }
   ],
   "source": [
    "from hyperopt import space_eval\n",
    "hyperparams = space_eval(space, best)\n",
    "hyperparams"
   ]
  },
  {
   "cell_type": "code",
   "execution_count": 56,
   "metadata": {},
   "outputs": [],
   "source": [
    "# рассчитаем точность для тестовой выборки\n",
    "model = linear_model.LogisticRegression(\n",
    "    random_state=random_state, \n",
    "    penalty=hyperparams['penalty'],\n",
    "    solver=hyperparams['solver'],\n",
    "    C=hyperparams['C']\n",
    ")\n",
    "model.fit(X_train, y_train)\n",
    "\n",
    "y_pred_ho_lr = model.predict(X_test)\n",
    "\n",
    "f1_ho_lr = metrics.f1_score(y_test, y_pred_ho_lr)"
   ]
  },
  {
   "cell_type": "code",
   "execution_count": 1,
   "metadata": {},
   "outputs": [
    {
     "ename": "NameError",
     "evalue": "name 'f1_logReg_base' is not defined",
     "output_type": "error",
     "traceback": [
      "\u001b[1;31m---------------------------------------------------------------------------\u001b[0m",
      "\u001b[1;31mNameError\u001b[0m                                 Traceback (most recent call last)",
      "Cell \u001b[1;32mIn [1], line 2\u001b[0m\n\u001b[0;32m      1\u001b[0m \u001b[39m#Сравним результат с BaseLine\u001b[39;00m\n\u001b[1;32m----> 2\u001b[0m \u001b[39mprint\u001b[39m(\u001b[39m'\u001b[39m\u001b[39mF1-score на Baseline для логистической регресии равен \u001b[39m\u001b[39m{:.2f}\u001b[39;00m\u001b[39m'\u001b[39m\u001b[39m.\u001b[39mformat(f1_logReg_base))\n\u001b[0;32m      3\u001b[0m \u001b[39mprint\u001b[39m(\u001b[39m'\u001b[39m\u001b[39mF1-score на HyperOpt для логистической регресии равен \u001b[39m\u001b[39m{:.2f}\u001b[39;00m\u001b[39m'\u001b[39m\u001b[39m.\u001b[39mformat(f1_ho_lr))\n",
      "\u001b[1;31mNameError\u001b[0m: name 'f1_logReg_base' is not defined"
     ]
    }
   ],
   "source": [
    "#Сравним результат с BaseLine\n",
    "print('F1-score на Baseline для логистической регресии равен {:.2f}'.format(f1_logReg_base))\n",
    "print('F1-score на HyperOpt для логистической регресии равен {:.2f}'.format(f1_ho_lr))"
   ]
  },
  {
   "cell_type": "markdown",
   "metadata": {},
   "source": [
    "## Случайный лес"
   ]
  },
  {
   "cell_type": "code",
   "execution_count": 58,
   "metadata": {},
   "outputs": [],
   "source": [
    "space={'n_estimators': hp.quniform('n_estimators', 80, 200, 1),\n",
    "       'max_depth' : hp.quniform('max_depth', 1, 30, 1),\n",
    "       'min_samples_leaf': hp.quniform('min_samples_leaf', 5, 25, 1)\n",
    "      }"
   ]
  },
  {
   "cell_type": "code",
   "execution_count": 59,
   "metadata": {},
   "outputs": [],
   "source": [
    "def hyperopt_rf(params, cv=5, X=X_train, y=y_train, random_state=random_state):\n",
    "    \n",
    "    params = {'n_estimators': int(params['n_estimators']), \n",
    "              'max_depth': int(params['max_depth']), \n",
    "             'min_samples_leaf': int(params['min_samples_leaf'])\n",
    "    }\n",
    "    # используем эту комбинацию для построения модели   \n",
    "    model = ensemble.RandomForestClassifier(**params, random_state=random_state)\n",
    "\n",
    "    # обучаем модель\n",
    "    model.fit(X, y)\n",
    "    score = cross_val_score(model, X, y, cv=cv, scoring=\"f1\", n_jobs=-1).mean()\n",
    "    \n",
    "    return -score    \n",
    "    "
   ]
  },
  {
   "cell_type": "code",
   "execution_count": 60,
   "metadata": {},
   "outputs": [
    {
     "name": "stdout",
     "output_type": "stream",
     "text": [
      "CPU times: total: 0 ns\n",
      "Wall time: 0 ns\n",
      "100%|██████████| 50/50 [02:09<00:00,  2.59s/trial, best loss: -0.8051423755259064]\n",
      "Наилучшие значения гиперпараметров {'max_depth': 28.0, 'min_samples_leaf': 5.0, 'n_estimators': 101.0}\n"
     ]
    }
   ],
   "source": [
    "%time\n",
    "\n",
    "trials = Trials() # используется для логирования результатов\n",
    "\n",
    "best=fmin(hyperopt_rf, # наша функция \n",
    "          space=space, # пространство гиперпараметров\n",
    "          algo=tpe.suggest, # алгоритм оптимизации, установлен по умолчанию, задавать необязательно\n",
    "          max_evals=50, # максимальное количество итераций\n",
    "          trials=trials, # логирование результатов\n",
    "          rstate=np.random.default_rng(random_state)# фиксируем для повторяемости результата\n",
    "         )\n",
    "print(\"Наилучшие значения гиперпараметров {}\".format(best))"
   ]
  },
  {
   "cell_type": "code",
   "execution_count": 61,
   "metadata": {},
   "outputs": [],
   "source": [
    "# рассчитаем точность для тестовой выборки\n",
    "model = ensemble.RandomForestClassifier(\n",
    "    random_state=random_state, \n",
    "    n_estimators=int(best['n_estimators']),\n",
    "    max_depth=int(best['max_depth']),\n",
    "    min_samples_leaf=int(best['min_samples_leaf'])\n",
    ")\n",
    "model.fit(X_train, y_train)\n",
    "\n",
    "y_pred_ho_rf = model.predict(X_test)\n",
    "\n",
    "f1_ho_rf = metrics.f1_score(y_test, y_pred_ho_rf)"
   ]
  },
  {
   "cell_type": "code",
   "execution_count": 62,
   "metadata": {},
   "outputs": [
    {
     "name": "stdout",
     "output_type": "stream",
     "text": [
      "F1-score на Baseline для случайного леса равен 0.83\n",
      "F1-score на HyperOpt для случайного леса равен 0.84\n"
     ]
    }
   ],
   "source": [
    "#Сравним результат с BaseLine\n",
    "print('F1-score на Baseline для случайного леса равен {:.2f}'.format(f1_rf_base))\n",
    "print('F1-score на HyperOpt для случайного леса равен {:.2f}'.format(f1_ho_rf))"
   ]
  },
  {
   "cell_type": "markdown",
   "metadata": {},
   "source": [
    "# Optuna"
   ]
  },
  {
   "cell_type": "markdown",
   "metadata": {},
   "source": [
    "## Логистическая регрессия"
   ]
  },
  {
   "cell_type": "code",
   "execution_count": 63,
   "metadata": {},
   "outputs": [],
   "source": [
    "def optuna_lr(trial):\n",
    "    penalty = trial.suggest_categorical(name='penalty', choices= ['l2', 'none']) # тип регуляризации\n",
    "    solver = trial.suggest_categorical(name = 'solver', choices= ['newton-cg', 'lbfgs', 'sag']) # алгоритм оптимизации\n",
    "    C = trial.suggest_float(name='C', low=0.01, high=1, step = 0.1) # уровень силы регурялизации\n",
    "    \n",
    "    model = linear_model.LogisticRegression(\n",
    "        penalty = penalty,\n",
    "        solver = solver,\n",
    "        C = C,\n",
    "        random_state=random_state\n",
    "    )\n",
    "    \n",
    "    model.fit(X_train, y_train)\n",
    "    score = cross_val_score(model, X_train, y_train, cv=5, scoring=\"f1\", n_jobs=-1).mean()\n",
    "    \n",
    "    return score"
   ]
  },
  {
   "cell_type": "code",
   "execution_count": 64,
   "metadata": {},
   "outputs": [
    {
     "name": "stderr",
     "output_type": "stream",
     "text": [
      "\u001b[32m[I 2022-10-14 13:40:52,067]\u001b[0m A new study created in memory with name: LogisticRegression\u001b[0m\n",
      "c:\\Users\\medol\\AppData\\Local\\Programs\\Python\\Python310\\lib\\site-packages\\optuna\\distributions.py:668: UserWarning: The distribution is specified by [0.01, 1] and step=0.1, but the range is not divisible by `step`. It will be replaced by [0.01, 0.91].\n",
      "  warnings.warn(\n",
      "c:\\Users\\medol\\AppData\\Local\\Programs\\Python\\Python310\\lib\\site-packages\\sklearn\\linear_model\\_sag.py:350: ConvergenceWarning: The max_iter was reached which means the coef_ did not converge\n",
      "  warnings.warn(\n",
      "\u001b[32m[I 2022-10-14 13:40:59,861]\u001b[0m Trial 0 finished with value: 0.7744882223208942 and parameters: {'penalty': 'l2', 'solver': 'sag', 'C': 0.51}. Best is trial 0 with value: 0.7744882223208942.\u001b[0m\n",
      "c:\\Users\\medol\\AppData\\Local\\Programs\\Python\\Python310\\lib\\site-packages\\optuna\\distributions.py:668: UserWarning: The distribution is specified by [0.01, 1] and step=0.1, but the range is not divisible by `step`. It will be replaced by [0.01, 0.91].\n",
      "  warnings.warn(\n",
      "c:\\Users\\medol\\AppData\\Local\\Programs\\Python\\Python310\\lib\\site-packages\\sklearn\\linear_model\\_logistic.py:1113: UserWarning: Setting penalty='none' will ignore the C and l1_ratio parameters\n",
      "  warnings.warn(\n",
      "c:\\Users\\medol\\AppData\\Local\\Programs\\Python\\Python310\\lib\\site-packages\\sklearn\\linear_model\\_sag.py:350: ConvergenceWarning: The max_iter was reached which means the coef_ did not converge\n",
      "  warnings.warn(\n",
      "\u001b[32m[I 2022-10-14 13:41:07,306]\u001b[0m Trial 1 finished with value: 0.7690080349374169 and parameters: {'penalty': 'none', 'solver': 'sag', 'C': 0.31000000000000005}. Best is trial 0 with value: 0.7744882223208942.\u001b[0m\n",
      "c:\\Users\\medol\\AppData\\Local\\Programs\\Python\\Python310\\lib\\site-packages\\optuna\\distributions.py:668: UserWarning: The distribution is specified by [0.01, 1] and step=0.1, but the range is not divisible by `step`. It will be replaced by [0.01, 0.91].\n",
      "  warnings.warn(\n",
      "\u001b[32m[I 2022-10-14 13:41:15,260]\u001b[0m Trial 2 finished with value: 0.7725256514893897 and parameters: {'penalty': 'l2', 'solver': 'newton-cg', 'C': 0.7100000000000001}. Best is trial 0 with value: 0.7744882223208942.\u001b[0m\n",
      "c:\\Users\\medol\\AppData\\Local\\Programs\\Python\\Python310\\lib\\site-packages\\optuna\\distributions.py:668: UserWarning: The distribution is specified by [0.01, 1] and step=0.1, but the range is not divisible by `step`. It will be replaced by [0.01, 0.91].\n",
      "  warnings.warn(\n",
      "c:\\Users\\medol\\AppData\\Local\\Programs\\Python\\Python310\\lib\\site-packages\\sklearn\\linear_model\\_logistic.py:1113: UserWarning: Setting penalty='none' will ignore the C and l1_ratio parameters\n",
      "  warnings.warn(\n",
      "c:\\Users\\medol\\AppData\\Local\\Programs\\Python\\Python310\\lib\\site-packages\\scipy\\optimize\\_linesearch.py:305: LineSearchWarning: The line search algorithm did not converge\n",
      "  warn('The line search algorithm did not converge', LineSearchWarning)\n",
      "c:\\Users\\medol\\AppData\\Local\\Programs\\Python\\Python310\\lib\\site-packages\\sklearn\\utils\\optimize.py:203: UserWarning: Line Search failed\n",
      "  warnings.warn(\"Line Search failed\")\n",
      "\u001b[32m[I 2022-10-14 13:42:05,068]\u001b[0m Trial 3 finished with value: 0.7233491452286801 and parameters: {'penalty': 'none', 'solver': 'newton-cg', 'C': 0.91}. Best is trial 0 with value: 0.7744882223208942.\u001b[0m\n",
      "c:\\Users\\medol\\AppData\\Local\\Programs\\Python\\Python310\\lib\\site-packages\\optuna\\distributions.py:668: UserWarning: The distribution is specified by [0.01, 1] and step=0.1, but the range is not divisible by `step`. It will be replaced by [0.01, 0.91].\n",
      "  warnings.warn(\n",
      "c:\\Users\\medol\\AppData\\Local\\Programs\\Python\\Python310\\lib\\site-packages\\sklearn\\linear_model\\_sag.py:350: ConvergenceWarning: The max_iter was reached which means the coef_ did not converge\n",
      "  warnings.warn(\n",
      "\u001b[32m[I 2022-10-14 13:42:13,092]\u001b[0m Trial 4 finished with value: 0.7799921548046879 and parameters: {'penalty': 'l2', 'solver': 'sag', 'C': 0.31000000000000005}. Best is trial 4 with value: 0.7799921548046879.\u001b[0m\n",
      "c:\\Users\\medol\\AppData\\Local\\Programs\\Python\\Python310\\lib\\site-packages\\optuna\\distributions.py:668: UserWarning: The distribution is specified by [0.01, 1] and step=0.1, but the range is not divisible by `step`. It will be replaced by [0.01, 0.91].\n",
      "  warnings.warn(\n",
      "c:\\Users\\medol\\AppData\\Local\\Programs\\Python\\Python310\\lib\\site-packages\\sklearn\\linear_model\\_logistic.py:1113: UserWarning: Setting penalty='none' will ignore the C and l1_ratio parameters\n",
      "  warnings.warn(\n",
      "c:\\Users\\medol\\AppData\\Local\\Programs\\Python\\Python310\\lib\\site-packages\\sklearn\\linear_model\\_sag.py:350: ConvergenceWarning: The max_iter was reached which means the coef_ did not converge\n",
      "  warnings.warn(\n",
      "\u001b[32m[I 2022-10-14 13:42:20,461]\u001b[0m Trial 5 finished with value: 0.7690080349374169 and parameters: {'penalty': 'none', 'solver': 'sag', 'C': 0.91}. Best is trial 4 with value: 0.7799921548046879.\u001b[0m\n",
      "c:\\Users\\medol\\AppData\\Local\\Programs\\Python\\Python310\\lib\\site-packages\\optuna\\distributions.py:668: UserWarning: The distribution is specified by [0.01, 1] and step=0.1, but the range is not divisible by `step`. It will be replaced by [0.01, 0.91].\n",
      "  warnings.warn(\n",
      "c:\\Users\\medol\\AppData\\Local\\Programs\\Python\\Python310\\lib\\site-packages\\sklearn\\linear_model\\_sag.py:350: ConvergenceWarning: The max_iter was reached which means the coef_ did not converge\n",
      "  warnings.warn(\n",
      "\u001b[32m[I 2022-10-14 13:42:27,824]\u001b[0m Trial 6 finished with value: 0.7820005016970459 and parameters: {'penalty': 'l2', 'solver': 'sag', 'C': 0.11}. Best is trial 6 with value: 0.7820005016970459.\u001b[0m\n",
      "c:\\Users\\medol\\AppData\\Local\\Programs\\Python\\Python310\\lib\\site-packages\\optuna\\distributions.py:668: UserWarning: The distribution is specified by [0.01, 1] and step=0.1, but the range is not divisible by `step`. It will be replaced by [0.01, 0.91].\n",
      "  warnings.warn(\n",
      "c:\\Users\\medol\\AppData\\Local\\Programs\\Python\\Python310\\lib\\site-packages\\sklearn\\linear_model\\_logistic.py:1113: UserWarning: Setting penalty='none' will ignore the C and l1_ratio parameters\n",
      "  warnings.warn(\n",
      "c:\\Users\\medol\\AppData\\Local\\Programs\\Python\\Python310\\lib\\site-packages\\scipy\\optimize\\_linesearch.py:305: LineSearchWarning: The line search algorithm did not converge\n",
      "  warn('The line search algorithm did not converge', LineSearchWarning)\n",
      "c:\\Users\\medol\\AppData\\Local\\Programs\\Python\\Python310\\lib\\site-packages\\sklearn\\utils\\optimize.py:203: UserWarning: Line Search failed\n",
      "  warnings.warn(\"Line Search failed\")\n",
      "\u001b[32m[I 2022-10-14 13:43:17,381]\u001b[0m Trial 7 finished with value: 0.7233491452286801 and parameters: {'penalty': 'none', 'solver': 'newton-cg', 'C': 0.81}. Best is trial 6 with value: 0.7820005016970459.\u001b[0m\n",
      "c:\\Users\\medol\\AppData\\Local\\Programs\\Python\\Python310\\lib\\site-packages\\optuna\\distributions.py:668: UserWarning: The distribution is specified by [0.01, 1] and step=0.1, but the range is not divisible by `step`. It will be replaced by [0.01, 0.91].\n",
      "  warnings.warn(\n",
      "c:\\Users\\medol\\AppData\\Local\\Programs\\Python\\Python310\\lib\\site-packages\\sklearn\\linear_model\\_sag.py:350: ConvergenceWarning: The max_iter was reached which means the coef_ did not converge\n",
      "  warnings.warn(\n",
      "\u001b[32m[I 2022-10-14 13:43:24,563]\u001b[0m Trial 8 finished with value: 0.7696711455789366 and parameters: {'penalty': 'l2', 'solver': 'sag', 'C': 0.91}. Best is trial 6 with value: 0.7820005016970459.\u001b[0m\n",
      "c:\\Users\\medol\\AppData\\Local\\Programs\\Python\\Python310\\lib\\site-packages\\optuna\\distributions.py:668: UserWarning: The distribution is specified by [0.01, 1] and step=0.1, but the range is not divisible by `step`. It will be replaced by [0.01, 0.91].\n",
      "  warnings.warn(\n",
      "c:\\Users\\medol\\AppData\\Local\\Programs\\Python\\Python310\\lib\\site-packages\\sklearn\\linear_model\\_logistic.py:1113: UserWarning: Setting penalty='none' will ignore the C and l1_ratio parameters\n",
      "  warnings.warn(\n",
      "c:\\Users\\medol\\AppData\\Local\\Programs\\Python\\Python310\\lib\\site-packages\\sklearn\\linear_model\\_logistic.py:444: ConvergenceWarning: lbfgs failed to converge (status=1):\n",
      "STOP: TOTAL NO. of ITERATIONS REACHED LIMIT.\n",
      "\n",
      "Increase the number of iterations (max_iter) or scale the data as shown in:\n",
      "    https://scikit-learn.org/stable/modules/preprocessing.html\n",
      "Please also refer to the documentation for alternative solver options:\n",
      "    https://scikit-learn.org/stable/modules/linear_model.html#logistic-regression\n",
      "  n_iter_i = _check_optimize_result(\n",
      "\u001b[32m[I 2022-10-14 13:43:26,733]\u001b[0m Trial 9 finished with value: 0.7560783598917695 and parameters: {'penalty': 'none', 'solver': 'lbfgs', 'C': 0.11}. Best is trial 6 with value: 0.7820005016970459.\u001b[0m\n",
      "c:\\Users\\medol\\AppData\\Local\\Programs\\Python\\Python310\\lib\\site-packages\\optuna\\distributions.py:668: UserWarning: The distribution is specified by [0.01, 1] and step=0.1, but the range is not divisible by `step`. It will be replaced by [0.01, 0.91].\n",
      "  warnings.warn(\n",
      "\u001b[32m[I 2022-10-14 13:43:28,244]\u001b[0m Trial 10 finished with value: 0.7749459870866194 and parameters: {'penalty': 'l2', 'solver': 'lbfgs', 'C': 0.01}. Best is trial 6 with value: 0.7820005016970459.\u001b[0m\n",
      "c:\\Users\\medol\\AppData\\Local\\Programs\\Python\\Python310\\lib\\site-packages\\optuna\\distributions.py:668: UserWarning: The distribution is specified by [0.01, 1] and step=0.1, but the range is not divisible by `step`. It will be replaced by [0.01, 0.91].\n",
      "  warnings.warn(\n",
      "c:\\Users\\medol\\AppData\\Local\\Programs\\Python\\Python310\\lib\\site-packages\\sklearn\\linear_model\\_sag.py:350: ConvergenceWarning: The max_iter was reached which means the coef_ did not converge\n",
      "  warnings.warn(\n",
      "\u001b[32m[I 2022-10-14 13:43:35,452]\u001b[0m Trial 11 finished with value: 0.7799921548046879 and parameters: {'penalty': 'l2', 'solver': 'sag', 'C': 0.31000000000000005}. Best is trial 6 with value: 0.7820005016970459.\u001b[0m\n",
      "c:\\Users\\medol\\AppData\\Local\\Programs\\Python\\Python310\\lib\\site-packages\\optuna\\distributions.py:668: UserWarning: The distribution is specified by [0.01, 1] and step=0.1, but the range is not divisible by `step`. It will be replaced by [0.01, 0.91].\n",
      "  warnings.warn(\n",
      "c:\\Users\\medol\\AppData\\Local\\Programs\\Python\\Python310\\lib\\site-packages\\sklearn\\linear_model\\_sag.py:350: ConvergenceWarning: The max_iter was reached which means the coef_ did not converge\n",
      "  warnings.warn(\n",
      "\u001b[32m[I 2022-10-14 13:43:42,684]\u001b[0m Trial 12 finished with value: 0.7805104493934761 and parameters: {'penalty': 'l2', 'solver': 'sag', 'C': 0.21000000000000002}. Best is trial 6 with value: 0.7820005016970459.\u001b[0m\n",
      "c:\\Users\\medol\\AppData\\Local\\Programs\\Python\\Python310\\lib\\site-packages\\optuna\\distributions.py:668: UserWarning: The distribution is specified by [0.01, 1] and step=0.1, but the range is not divisible by `step`. It will be replaced by [0.01, 0.91].\n",
      "  warnings.warn(\n",
      "c:\\Users\\medol\\AppData\\Local\\Programs\\Python\\Python310\\lib\\site-packages\\sklearn\\linear_model\\_sag.py:350: ConvergenceWarning: The max_iter was reached which means the coef_ did not converge\n",
      "  warnings.warn(\n",
      "\u001b[32m[I 2022-10-14 13:43:49,884]\u001b[0m Trial 13 finished with value: 0.7820005016970459 and parameters: {'penalty': 'l2', 'solver': 'sag', 'C': 0.11}. Best is trial 6 with value: 0.7820005016970459.\u001b[0m\n",
      "c:\\Users\\medol\\AppData\\Local\\Programs\\Python\\Python310\\lib\\site-packages\\optuna\\distributions.py:668: UserWarning: The distribution is specified by [0.01, 1] and step=0.1, but the range is not divisible by `step`. It will be replaced by [0.01, 0.91].\n",
      "  warnings.warn(\n",
      "\u001b[32m[I 2022-10-14 13:43:55,834]\u001b[0m Trial 14 finished with value: 0.7743180436015331 and parameters: {'penalty': 'l2', 'solver': 'sag', 'C': 0.01}. Best is trial 6 with value: 0.7820005016970459.\u001b[0m\n",
      "c:\\Users\\medol\\AppData\\Local\\Programs\\Python\\Python310\\lib\\site-packages\\optuna\\distributions.py:668: UserWarning: The distribution is specified by [0.01, 1] and step=0.1, but the range is not divisible by `step`. It will be replaced by [0.01, 0.91].\n",
      "  warnings.warn(\n",
      "c:\\Users\\medol\\AppData\\Local\\Programs\\Python\\Python310\\lib\\site-packages\\sklearn\\linear_model\\_logistic.py:444: ConvergenceWarning: lbfgs failed to converge (status=1):\n",
      "STOP: TOTAL NO. of ITERATIONS REACHED LIMIT.\n",
      "\n",
      "Increase the number of iterations (max_iter) or scale the data as shown in:\n",
      "    https://scikit-learn.org/stable/modules/preprocessing.html\n",
      "Please also refer to the documentation for alternative solver options:\n",
      "    https://scikit-learn.org/stable/modules/linear_model.html#logistic-regression\n",
      "  n_iter_i = _check_optimize_result(\n",
      "\u001b[32m[I 2022-10-14 13:43:58,119]\u001b[0m Trial 15 finished with value: 0.7737257662151599 and parameters: {'penalty': 'l2', 'solver': 'lbfgs', 'C': 0.51}. Best is trial 6 with value: 0.7820005016970459.\u001b[0m\n",
      "c:\\Users\\medol\\AppData\\Local\\Programs\\Python\\Python310\\lib\\site-packages\\optuna\\distributions.py:668: UserWarning: The distribution is specified by [0.01, 1] and step=0.1, but the range is not divisible by `step`. It will be replaced by [0.01, 0.91].\n",
      "  warnings.warn(\n",
      "c:\\Users\\medol\\AppData\\Local\\Programs\\Python\\Python310\\lib\\site-packages\\sklearn\\linear_model\\_sag.py:350: ConvergenceWarning: The max_iter was reached which means the coef_ did not converge\n",
      "  warnings.warn(\n",
      "\u001b[32m[I 2022-10-14 13:44:05,299]\u001b[0m Trial 16 finished with value: 0.7820005016970459 and parameters: {'penalty': 'l2', 'solver': 'sag', 'C': 0.11}. Best is trial 6 with value: 0.7820005016970459.\u001b[0m\n",
      "c:\\Users\\medol\\AppData\\Local\\Programs\\Python\\Python310\\lib\\site-packages\\optuna\\distributions.py:668: UserWarning: The distribution is specified by [0.01, 1] and step=0.1, but the range is not divisible by `step`. It will be replaced by [0.01, 0.91].\n",
      "  warnings.warn(\n",
      "c:\\Users\\medol\\AppData\\Local\\Programs\\Python\\Python310\\lib\\site-packages\\sklearn\\linear_model\\_sag.py:350: ConvergenceWarning: The max_iter was reached which means the coef_ did not converge\n",
      "  warnings.warn(\n",
      "\u001b[32m[I 2022-10-14 13:44:12,294]\u001b[0m Trial 17 finished with value: 0.7778486011141373 and parameters: {'penalty': 'l2', 'solver': 'sag', 'C': 0.41000000000000003}. Best is trial 6 with value: 0.7820005016970459.\u001b[0m\n",
      "c:\\Users\\medol\\AppData\\Local\\Programs\\Python\\Python310\\lib\\site-packages\\optuna\\distributions.py:668: UserWarning: The distribution is specified by [0.01, 1] and step=0.1, but the range is not divisible by `step`. It will be replaced by [0.01, 0.91].\n",
      "  warnings.warn(\n",
      "c:\\Users\\medol\\AppData\\Local\\Programs\\Python\\Python310\\lib\\site-packages\\sklearn\\linear_model\\_logistic.py:444: ConvergenceWarning: lbfgs failed to converge (status=1):\n",
      "STOP: TOTAL NO. of ITERATIONS REACHED LIMIT.\n",
      "\n",
      "Increase the number of iterations (max_iter) or scale the data as shown in:\n",
      "    https://scikit-learn.org/stable/modules/preprocessing.html\n",
      "Please also refer to the documentation for alternative solver options:\n",
      "    https://scikit-learn.org/stable/modules/linear_model.html#logistic-regression\n",
      "  n_iter_i = _check_optimize_result(\n",
      "\u001b[32m[I 2022-10-14 13:44:14,605]\u001b[0m Trial 18 finished with value: 0.7843446420739548 and parameters: {'penalty': 'l2', 'solver': 'lbfgs', 'C': 0.11}. Best is trial 18 with value: 0.7843446420739548.\u001b[0m\n",
      "c:\\Users\\medol\\AppData\\Local\\Programs\\Python\\Python310\\lib\\site-packages\\optuna\\distributions.py:668: UserWarning: The distribution is specified by [0.01, 1] and step=0.1, but the range is not divisible by `step`. It will be replaced by [0.01, 0.91].\n",
      "  warnings.warn(\n",
      "c:\\Users\\medol\\AppData\\Local\\Programs\\Python\\Python310\\lib\\site-packages\\sklearn\\linear_model\\_logistic.py:444: ConvergenceWarning: lbfgs failed to converge (status=1):\n",
      "STOP: TOTAL NO. of ITERATIONS REACHED LIMIT.\n",
      "\n",
      "Increase the number of iterations (max_iter) or scale the data as shown in:\n",
      "    https://scikit-learn.org/stable/modules/preprocessing.html\n",
      "Please also refer to the documentation for alternative solver options:\n",
      "    https://scikit-learn.org/stable/modules/linear_model.html#logistic-regression\n",
      "  n_iter_i = _check_optimize_result(\n",
      "\u001b[32m[I 2022-10-14 13:44:17,038]\u001b[0m Trial 19 finished with value: 0.7792866334316307 and parameters: {'penalty': 'l2', 'solver': 'lbfgs', 'C': 0.21000000000000002}. Best is trial 18 with value: 0.7843446420739548.\u001b[0m\n",
      "c:\\Users\\medol\\AppData\\Local\\Programs\\Python\\Python310\\lib\\site-packages\\optuna\\distributions.py:668: UserWarning: The distribution is specified by [0.01, 1] and step=0.1, but the range is not divisible by `step`. It will be replaced by [0.01, 0.91].\n",
      "  warnings.warn(\n",
      "c:\\Users\\medol\\AppData\\Local\\Programs\\Python\\Python310\\lib\\site-packages\\sklearn\\linear_model\\_logistic.py:444: ConvergenceWarning: lbfgs failed to converge (status=1):\n",
      "STOP: TOTAL NO. of ITERATIONS REACHED LIMIT.\n",
      "\n",
      "Increase the number of iterations (max_iter) or scale the data as shown in:\n",
      "    https://scikit-learn.org/stable/modules/preprocessing.html\n",
      "Please also refer to the documentation for alternative solver options:\n",
      "    https://scikit-learn.org/stable/modules/linear_model.html#logistic-regression\n",
      "  n_iter_i = _check_optimize_result(\n",
      "\u001b[32m[I 2022-10-14 13:44:19,286]\u001b[0m Trial 20 finished with value: 0.7719651519816895 and parameters: {'penalty': 'l2', 'solver': 'lbfgs', 'C': 0.6100000000000001}. Best is trial 18 with value: 0.7843446420739548.\u001b[0m\n",
      "c:\\Users\\medol\\AppData\\Local\\Programs\\Python\\Python310\\lib\\site-packages\\optuna\\distributions.py:668: UserWarning: The distribution is specified by [0.01, 1] and step=0.1, but the range is not divisible by `step`. It will be replaced by [0.01, 0.91].\n",
      "  warnings.warn(\n",
      "c:\\Users\\medol\\AppData\\Local\\Programs\\Python\\Python310\\lib\\site-packages\\sklearn\\linear_model\\_logistic.py:444: ConvergenceWarning: lbfgs failed to converge (status=1):\n",
      "STOP: TOTAL NO. of ITERATIONS REACHED LIMIT.\n",
      "\n",
      "Increase the number of iterations (max_iter) or scale the data as shown in:\n",
      "    https://scikit-learn.org/stable/modules/preprocessing.html\n",
      "Please also refer to the documentation for alternative solver options:\n",
      "    https://scikit-learn.org/stable/modules/linear_model.html#logistic-regression\n",
      "  n_iter_i = _check_optimize_result(\n",
      "\u001b[32m[I 2022-10-14 13:44:21,590]\u001b[0m Trial 21 finished with value: 0.7843446420739548 and parameters: {'penalty': 'l2', 'solver': 'lbfgs', 'C': 0.11}. Best is trial 18 with value: 0.7843446420739548.\u001b[0m\n",
      "c:\\Users\\medol\\AppData\\Local\\Programs\\Python\\Python310\\lib\\site-packages\\optuna\\distributions.py:668: UserWarning: The distribution is specified by [0.01, 1] and step=0.1, but the range is not divisible by `step`. It will be replaced by [0.01, 0.91].\n",
      "  warnings.warn(\n",
      "\u001b[32m[I 2022-10-14 13:44:23,062]\u001b[0m Trial 22 finished with value: 0.7749459870866194 and parameters: {'penalty': 'l2', 'solver': 'lbfgs', 'C': 0.01}. Best is trial 18 with value: 0.7843446420739548.\u001b[0m\n",
      "c:\\Users\\medol\\AppData\\Local\\Programs\\Python\\Python310\\lib\\site-packages\\optuna\\distributions.py:668: UserWarning: The distribution is specified by [0.01, 1] and step=0.1, but the range is not divisible by `step`. It will be replaced by [0.01, 0.91].\n",
      "  warnings.warn(\n",
      "c:\\Users\\medol\\AppData\\Local\\Programs\\Python\\Python310\\lib\\site-packages\\sklearn\\linear_model\\_logistic.py:444: ConvergenceWarning: lbfgs failed to converge (status=1):\n",
      "STOP: TOTAL NO. of ITERATIONS REACHED LIMIT.\n",
      "\n",
      "Increase the number of iterations (max_iter) or scale the data as shown in:\n",
      "    https://scikit-learn.org/stable/modules/preprocessing.html\n",
      "Please also refer to the documentation for alternative solver options:\n",
      "    https://scikit-learn.org/stable/modules/linear_model.html#logistic-regression\n",
      "  n_iter_i = _check_optimize_result(\n",
      "\u001b[32m[I 2022-10-14 13:44:25,334]\u001b[0m Trial 23 finished with value: 0.7792866334316307 and parameters: {'penalty': 'l2', 'solver': 'lbfgs', 'C': 0.21000000000000002}. Best is trial 18 with value: 0.7843446420739548.\u001b[0m\n",
      "c:\\Users\\medol\\AppData\\Local\\Programs\\Python\\Python310\\lib\\site-packages\\optuna\\distributions.py:668: UserWarning: The distribution is specified by [0.01, 1] and step=0.1, but the range is not divisible by `step`. It will be replaced by [0.01, 0.91].\n",
      "  warnings.warn(\n",
      "c:\\Users\\medol\\AppData\\Local\\Programs\\Python\\Python310\\lib\\site-packages\\sklearn\\linear_model\\_logistic.py:444: ConvergenceWarning: lbfgs failed to converge (status=1):\n",
      "STOP: TOTAL NO. of ITERATIONS REACHED LIMIT.\n",
      "\n",
      "Increase the number of iterations (max_iter) or scale the data as shown in:\n",
      "    https://scikit-learn.org/stable/modules/preprocessing.html\n",
      "Please also refer to the documentation for alternative solver options:\n",
      "    https://scikit-learn.org/stable/modules/linear_model.html#logistic-regression\n",
      "  n_iter_i = _check_optimize_result(\n",
      "\u001b[32m[I 2022-10-14 13:44:27,582]\u001b[0m Trial 24 finished with value: 0.7843446420739548 and parameters: {'penalty': 'l2', 'solver': 'lbfgs', 'C': 0.11}. Best is trial 18 with value: 0.7843446420739548.\u001b[0m\n",
      "c:\\Users\\medol\\AppData\\Local\\Programs\\Python\\Python310\\lib\\site-packages\\optuna\\distributions.py:668: UserWarning: The distribution is specified by [0.01, 1] and step=0.1, but the range is not divisible by `step`. It will be replaced by [0.01, 0.91].\n",
      "  warnings.warn(\n",
      "c:\\Users\\medol\\AppData\\Local\\Programs\\Python\\Python310\\lib\\site-packages\\sklearn\\linear_model\\_logistic.py:444: ConvergenceWarning: lbfgs failed to converge (status=1):\n",
      "STOP: TOTAL NO. of ITERATIONS REACHED LIMIT.\n",
      "\n",
      "Increase the number of iterations (max_iter) or scale the data as shown in:\n",
      "    https://scikit-learn.org/stable/modules/preprocessing.html\n",
      "Please also refer to the documentation for alternative solver options:\n",
      "    https://scikit-learn.org/stable/modules/linear_model.html#logistic-regression\n",
      "  n_iter_i = _check_optimize_result(\n",
      "\u001b[32m[I 2022-10-14 13:44:29,713]\u001b[0m Trial 25 finished with value: 0.7792866334316307 and parameters: {'penalty': 'l2', 'solver': 'lbfgs', 'C': 0.21000000000000002}. Best is trial 18 with value: 0.7843446420739548.\u001b[0m\n",
      "c:\\Users\\medol\\AppData\\Local\\Programs\\Python\\Python310\\lib\\site-packages\\optuna\\distributions.py:668: UserWarning: The distribution is specified by [0.01, 1] and step=0.1, but the range is not divisible by `step`. It will be replaced by [0.01, 0.91].\n",
      "  warnings.warn(\n",
      "c:\\Users\\medol\\AppData\\Local\\Programs\\Python\\Python310\\lib\\site-packages\\sklearn\\linear_model\\_logistic.py:1113: UserWarning: Setting penalty='none' will ignore the C and l1_ratio parameters\n",
      "  warnings.warn(\n",
      "c:\\Users\\medol\\AppData\\Local\\Programs\\Python\\Python310\\lib\\site-packages\\sklearn\\linear_model\\_logistic.py:444: ConvergenceWarning: lbfgs failed to converge (status=1):\n",
      "STOP: TOTAL NO. of ITERATIONS REACHED LIMIT.\n",
      "\n",
      "Increase the number of iterations (max_iter) or scale the data as shown in:\n",
      "    https://scikit-learn.org/stable/modules/preprocessing.html\n",
      "Please also refer to the documentation for alternative solver options:\n",
      "    https://scikit-learn.org/stable/modules/linear_model.html#logistic-regression\n",
      "  n_iter_i = _check_optimize_result(\n",
      "\u001b[32m[I 2022-10-14 13:44:31,830]\u001b[0m Trial 26 finished with value: 0.7560783598917695 and parameters: {'penalty': 'none', 'solver': 'lbfgs', 'C': 0.41000000000000003}. Best is trial 18 with value: 0.7843446420739548.\u001b[0m\n",
      "c:\\Users\\medol\\AppData\\Local\\Programs\\Python\\Python310\\lib\\site-packages\\optuna\\distributions.py:668: UserWarning: The distribution is specified by [0.01, 1] and step=0.1, but the range is not divisible by `step`. It will be replaced by [0.01, 0.91].\n",
      "  warnings.warn(\n",
      "\u001b[32m[I 2022-10-14 13:44:33,395]\u001b[0m Trial 27 finished with value: 0.7749459870866194 and parameters: {'penalty': 'l2', 'solver': 'lbfgs', 'C': 0.01}. Best is trial 18 with value: 0.7843446420739548.\u001b[0m\n",
      "c:\\Users\\medol\\AppData\\Local\\Programs\\Python\\Python310\\lib\\site-packages\\optuna\\distributions.py:668: UserWarning: The distribution is specified by [0.01, 1] and step=0.1, but the range is not divisible by `step`. It will be replaced by [0.01, 0.91].\n",
      "  warnings.warn(\n",
      "c:\\Users\\medol\\AppData\\Local\\Programs\\Python\\Python310\\lib\\site-packages\\sklearn\\linear_model\\_logistic.py:444: ConvergenceWarning: lbfgs failed to converge (status=1):\n",
      "STOP: TOTAL NO. of ITERATIONS REACHED LIMIT.\n",
      "\n",
      "Increase the number of iterations (max_iter) or scale the data as shown in:\n",
      "    https://scikit-learn.org/stable/modules/preprocessing.html\n",
      "Please also refer to the documentation for alternative solver options:\n",
      "    https://scikit-learn.org/stable/modules/linear_model.html#logistic-regression\n",
      "  n_iter_i = _check_optimize_result(\n",
      "\u001b[32m[I 2022-10-14 13:44:35,637]\u001b[0m Trial 28 finished with value: 0.7843446420739548 and parameters: {'penalty': 'l2', 'solver': 'lbfgs', 'C': 0.11}. Best is trial 18 with value: 0.7843446420739548.\u001b[0m\n",
      "c:\\Users\\medol\\AppData\\Local\\Programs\\Python\\Python310\\lib\\site-packages\\optuna\\distributions.py:668: UserWarning: The distribution is specified by [0.01, 1] and step=0.1, but the range is not divisible by `step`. It will be replaced by [0.01, 0.91].\n",
      "  warnings.warn(\n",
      "c:\\Users\\medol\\AppData\\Local\\Programs\\Python\\Python310\\lib\\site-packages\\sklearn\\linear_model\\_logistic.py:444: ConvergenceWarning: lbfgs failed to converge (status=1):\n",
      "STOP: TOTAL NO. of ITERATIONS REACHED LIMIT.\n",
      "\n",
      "Increase the number of iterations (max_iter) or scale the data as shown in:\n",
      "    https://scikit-learn.org/stable/modules/preprocessing.html\n",
      "Please also refer to the documentation for alternative solver options:\n",
      "    https://scikit-learn.org/stable/modules/linear_model.html#logistic-regression\n",
      "  n_iter_i = _check_optimize_result(\n",
      "\u001b[32m[I 2022-10-14 13:44:37,739]\u001b[0m Trial 29 finished with value: 0.779237413989353 and parameters: {'penalty': 'l2', 'solver': 'lbfgs', 'C': 0.31000000000000005}. Best is trial 18 with value: 0.7843446420739548.\u001b[0m\n",
      "c:\\Users\\medol\\AppData\\Local\\Programs\\Python\\Python310\\lib\\site-packages\\optuna\\distributions.py:668: UserWarning: The distribution is specified by [0.01, 1] and step=0.1, but the range is not divisible by `step`. It will be replaced by [0.01, 0.91].\n",
      "  warnings.warn(\n",
      "c:\\Users\\medol\\AppData\\Local\\Programs\\Python\\Python310\\lib\\site-packages\\sklearn\\linear_model\\_logistic.py:444: ConvergenceWarning: lbfgs failed to converge (status=1):\n",
      "STOP: TOTAL NO. of ITERATIONS REACHED LIMIT.\n",
      "\n",
      "Increase the number of iterations (max_iter) or scale the data as shown in:\n",
      "    https://scikit-learn.org/stable/modules/preprocessing.html\n",
      "Please also refer to the documentation for alternative solver options:\n",
      "    https://scikit-learn.org/stable/modules/linear_model.html#logistic-regression\n",
      "  n_iter_i = _check_optimize_result(\n",
      "\u001b[32m[I 2022-10-14 13:44:39,999]\u001b[0m Trial 30 finished with value: 0.7792866334316307 and parameters: {'penalty': 'l2', 'solver': 'lbfgs', 'C': 0.21000000000000002}. Best is trial 18 with value: 0.7843446420739548.\u001b[0m\n",
      "c:\\Users\\medol\\AppData\\Local\\Programs\\Python\\Python310\\lib\\site-packages\\optuna\\distributions.py:668: UserWarning: The distribution is specified by [0.01, 1] and step=0.1, but the range is not divisible by `step`. It will be replaced by [0.01, 0.91].\n",
      "  warnings.warn(\n",
      "c:\\Users\\medol\\AppData\\Local\\Programs\\Python\\Python310\\lib\\site-packages\\sklearn\\linear_model\\_logistic.py:444: ConvergenceWarning: lbfgs failed to converge (status=1):\n",
      "STOP: TOTAL NO. of ITERATIONS REACHED LIMIT.\n",
      "\n",
      "Increase the number of iterations (max_iter) or scale the data as shown in:\n",
      "    https://scikit-learn.org/stable/modules/preprocessing.html\n",
      "Please also refer to the documentation for alternative solver options:\n",
      "    https://scikit-learn.org/stable/modules/linear_model.html#logistic-regression\n",
      "  n_iter_i = _check_optimize_result(\n",
      "\u001b[32m[I 2022-10-14 13:44:42,143]\u001b[0m Trial 31 finished with value: 0.7843446420739548 and parameters: {'penalty': 'l2', 'solver': 'lbfgs', 'C': 0.11}. Best is trial 18 with value: 0.7843446420739548.\u001b[0m\n",
      "c:\\Users\\medol\\AppData\\Local\\Programs\\Python\\Python310\\lib\\site-packages\\optuna\\distributions.py:668: UserWarning: The distribution is specified by [0.01, 1] and step=0.1, but the range is not divisible by `step`. It will be replaced by [0.01, 0.91].\n",
      "  warnings.warn(\n",
      "c:\\Users\\medol\\AppData\\Local\\Programs\\Python\\Python310\\lib\\site-packages\\sklearn\\linear_model\\_logistic.py:444: ConvergenceWarning: lbfgs failed to converge (status=1):\n",
      "STOP: TOTAL NO. of ITERATIONS REACHED LIMIT.\n",
      "\n",
      "Increase the number of iterations (max_iter) or scale the data as shown in:\n",
      "    https://scikit-learn.org/stable/modules/preprocessing.html\n",
      "Please also refer to the documentation for alternative solver options:\n",
      "    https://scikit-learn.org/stable/modules/linear_model.html#logistic-regression\n",
      "  n_iter_i = _check_optimize_result(\n",
      "\u001b[32m[I 2022-10-14 13:44:44,390]\u001b[0m Trial 32 finished with value: 0.7843446420739548 and parameters: {'penalty': 'l2', 'solver': 'lbfgs', 'C': 0.11}. Best is trial 18 with value: 0.7843446420739548.\u001b[0m\n",
      "c:\\Users\\medol\\AppData\\Local\\Programs\\Python\\Python310\\lib\\site-packages\\optuna\\distributions.py:668: UserWarning: The distribution is specified by [0.01, 1] and step=0.1, but the range is not divisible by `step`. It will be replaced by [0.01, 0.91].\n",
      "  warnings.warn(\n",
      "\u001b[32m[I 2022-10-14 13:44:45,852]\u001b[0m Trial 33 finished with value: 0.7749459870866194 and parameters: {'penalty': 'l2', 'solver': 'lbfgs', 'C': 0.01}. Best is trial 18 with value: 0.7843446420739548.\u001b[0m\n",
      "c:\\Users\\medol\\AppData\\Local\\Programs\\Python\\Python310\\lib\\site-packages\\optuna\\distributions.py:668: UserWarning: The distribution is specified by [0.01, 1] and step=0.1, but the range is not divisible by `step`. It will be replaced by [0.01, 0.91].\n",
      "  warnings.warn(\n",
      "c:\\Users\\medol\\AppData\\Local\\Programs\\Python\\Python310\\lib\\site-packages\\sklearn\\linear_model\\_logistic.py:1113: UserWarning: Setting penalty='none' will ignore the C and l1_ratio parameters\n",
      "  warnings.warn(\n",
      "c:\\Users\\medol\\AppData\\Local\\Programs\\Python\\Python310\\lib\\site-packages\\scipy\\optimize\\_linesearch.py:305: LineSearchWarning: The line search algorithm did not converge\n",
      "  warn('The line search algorithm did not converge', LineSearchWarning)\n",
      "c:\\Users\\medol\\AppData\\Local\\Programs\\Python\\Python310\\lib\\site-packages\\sklearn\\utils\\optimize.py:203: UserWarning: Line Search failed\n",
      "  warnings.warn(\"Line Search failed\")\n",
      "\u001b[32m[I 2022-10-14 13:45:34,808]\u001b[0m Trial 34 finished with value: 0.7233491452286801 and parameters: {'penalty': 'none', 'solver': 'newton-cg', 'C': 0.21000000000000002}. Best is trial 18 with value: 0.7843446420739548.\u001b[0m\n",
      "c:\\Users\\medol\\AppData\\Local\\Programs\\Python\\Python310\\lib\\site-packages\\optuna\\distributions.py:668: UserWarning: The distribution is specified by [0.01, 1] and step=0.1, but the range is not divisible by `step`. It will be replaced by [0.01, 0.91].\n",
      "  warnings.warn(\n",
      "c:\\Users\\medol\\AppData\\Local\\Programs\\Python\\Python310\\lib\\site-packages\\sklearn\\linear_model\\_logistic.py:444: ConvergenceWarning: lbfgs failed to converge (status=1):\n",
      "STOP: TOTAL NO. of ITERATIONS REACHED LIMIT.\n",
      "\n",
      "Increase the number of iterations (max_iter) or scale the data as shown in:\n",
      "    https://scikit-learn.org/stable/modules/preprocessing.html\n",
      "Please also refer to the documentation for alternative solver options:\n",
      "    https://scikit-learn.org/stable/modules/linear_model.html#logistic-regression\n",
      "  n_iter_i = _check_optimize_result(\n",
      "\u001b[32m[I 2022-10-14 13:45:36,925]\u001b[0m Trial 35 finished with value: 0.7777418955251229 and parameters: {'penalty': 'l2', 'solver': 'lbfgs', 'C': 0.41000000000000003}. Best is trial 18 with value: 0.7843446420739548.\u001b[0m\n",
      "c:\\Users\\medol\\AppData\\Local\\Programs\\Python\\Python310\\lib\\site-packages\\optuna\\distributions.py:668: UserWarning: The distribution is specified by [0.01, 1] and step=0.1, but the range is not divisible by `step`. It will be replaced by [0.01, 0.91].\n",
      "  warnings.warn(\n",
      "\u001b[32m[I 2022-10-14 13:45:43,309]\u001b[0m Trial 36 finished with value: 0.7794872072632637 and parameters: {'penalty': 'l2', 'solver': 'newton-cg', 'C': 0.31000000000000005}. Best is trial 18 with value: 0.7843446420739548.\u001b[0m\n",
      "c:\\Users\\medol\\AppData\\Local\\Programs\\Python\\Python310\\lib\\site-packages\\optuna\\distributions.py:668: UserWarning: The distribution is specified by [0.01, 1] and step=0.1, but the range is not divisible by `step`. It will be replaced by [0.01, 0.91].\n",
      "  warnings.warn(\n",
      "c:\\Users\\medol\\AppData\\Local\\Programs\\Python\\Python310\\lib\\site-packages\\sklearn\\linear_model\\_logistic.py:1113: UserWarning: Setting penalty='none' will ignore the C and l1_ratio parameters\n",
      "  warnings.warn(\n",
      "c:\\Users\\medol\\AppData\\Local\\Programs\\Python\\Python310\\lib\\site-packages\\sklearn\\linear_model\\_logistic.py:444: ConvergenceWarning: lbfgs failed to converge (status=1):\n",
      "STOP: TOTAL NO. of ITERATIONS REACHED LIMIT.\n",
      "\n",
      "Increase the number of iterations (max_iter) or scale the data as shown in:\n",
      "    https://scikit-learn.org/stable/modules/preprocessing.html\n",
      "Please also refer to the documentation for alternative solver options:\n",
      "    https://scikit-learn.org/stable/modules/linear_model.html#logistic-regression\n",
      "  n_iter_i = _check_optimize_result(\n",
      "\u001b[32m[I 2022-10-14 13:45:45,432]\u001b[0m Trial 37 finished with value: 0.7560783598917695 and parameters: {'penalty': 'none', 'solver': 'lbfgs', 'C': 0.11}. Best is trial 18 with value: 0.7843446420739548.\u001b[0m\n",
      "c:\\Users\\medol\\AppData\\Local\\Programs\\Python\\Python310\\lib\\site-packages\\optuna\\distributions.py:668: UserWarning: The distribution is specified by [0.01, 1] and step=0.1, but the range is not divisible by `step`. It will be replaced by [0.01, 0.91].\n",
      "  warnings.warn(\n",
      "c:\\Users\\medol\\AppData\\Local\\Programs\\Python\\Python310\\lib\\site-packages\\sklearn\\linear_model\\_logistic.py:444: ConvergenceWarning: lbfgs failed to converge (status=1):\n",
      "STOP: TOTAL NO. of ITERATIONS REACHED LIMIT.\n",
      "\n",
      "Increase the number of iterations (max_iter) or scale the data as shown in:\n",
      "    https://scikit-learn.org/stable/modules/preprocessing.html\n",
      "Please also refer to the documentation for alternative solver options:\n",
      "    https://scikit-learn.org/stable/modules/linear_model.html#logistic-regression\n",
      "  n_iter_i = _check_optimize_result(\n",
      "\u001b[32m[I 2022-10-14 13:45:47,659]\u001b[0m Trial 38 finished with value: 0.7719651519816895 and parameters: {'penalty': 'l2', 'solver': 'lbfgs', 'C': 0.6100000000000001}. Best is trial 18 with value: 0.7843446420739548.\u001b[0m\n",
      "c:\\Users\\medol\\AppData\\Local\\Programs\\Python\\Python310\\lib\\site-packages\\optuna\\distributions.py:668: UserWarning: The distribution is specified by [0.01, 1] and step=0.1, but the range is not divisible by `step`. It will be replaced by [0.01, 0.91].\n",
      "  warnings.warn(\n",
      "\u001b[32m[I 2022-10-14 13:45:51,101]\u001b[0m Trial 39 finished with value: 0.7749459870866194 and parameters: {'penalty': 'l2', 'solver': 'newton-cg', 'C': 0.01}. Best is trial 18 with value: 0.7843446420739548.\u001b[0m\n",
      "c:\\Users\\medol\\AppData\\Local\\Programs\\Python\\Python310\\lib\\site-packages\\optuna\\distributions.py:668: UserWarning: The distribution is specified by [0.01, 1] and step=0.1, but the range is not divisible by `step`. It will be replaced by [0.01, 0.91].\n",
      "  warnings.warn(\n",
      "c:\\Users\\medol\\AppData\\Local\\Programs\\Python\\Python310\\lib\\site-packages\\sklearn\\linear_model\\_logistic.py:1113: UserWarning: Setting penalty='none' will ignore the C and l1_ratio parameters\n",
      "  warnings.warn(\n",
      "c:\\Users\\medol\\AppData\\Local\\Programs\\Python\\Python310\\lib\\site-packages\\sklearn\\linear_model\\_logistic.py:444: ConvergenceWarning: lbfgs failed to converge (status=1):\n",
      "STOP: TOTAL NO. of ITERATIONS REACHED LIMIT.\n",
      "\n",
      "Increase the number of iterations (max_iter) or scale the data as shown in:\n",
      "    https://scikit-learn.org/stable/modules/preprocessing.html\n",
      "Please also refer to the documentation for alternative solver options:\n",
      "    https://scikit-learn.org/stable/modules/linear_model.html#logistic-regression\n",
      "  n_iter_i = _check_optimize_result(\n",
      "\u001b[32m[I 2022-10-14 13:45:53,240]\u001b[0m Trial 40 finished with value: 0.7560783598917695 and parameters: {'penalty': 'none', 'solver': 'lbfgs', 'C': 0.31000000000000005}. Best is trial 18 with value: 0.7843446420739548.\u001b[0m\n",
      "c:\\Users\\medol\\AppData\\Local\\Programs\\Python\\Python310\\lib\\site-packages\\optuna\\distributions.py:668: UserWarning: The distribution is specified by [0.01, 1] and step=0.1, but the range is not divisible by `step`. It will be replaced by [0.01, 0.91].\n",
      "  warnings.warn(\n",
      "c:\\Users\\medol\\AppData\\Local\\Programs\\Python\\Python310\\lib\\site-packages\\sklearn\\linear_model\\_logistic.py:444: ConvergenceWarning: lbfgs failed to converge (status=1):\n",
      "STOP: TOTAL NO. of ITERATIONS REACHED LIMIT.\n",
      "\n",
      "Increase the number of iterations (max_iter) or scale the data as shown in:\n",
      "    https://scikit-learn.org/stable/modules/preprocessing.html\n",
      "Please also refer to the documentation for alternative solver options:\n",
      "    https://scikit-learn.org/stable/modules/linear_model.html#logistic-regression\n",
      "  n_iter_i = _check_optimize_result(\n",
      "\u001b[32m[I 2022-10-14 13:45:55,389]\u001b[0m Trial 41 finished with value: 0.7843446420739548 and parameters: {'penalty': 'l2', 'solver': 'lbfgs', 'C': 0.11}. Best is trial 18 with value: 0.7843446420739548.\u001b[0m\n",
      "c:\\Users\\medol\\AppData\\Local\\Programs\\Python\\Python310\\lib\\site-packages\\optuna\\distributions.py:668: UserWarning: The distribution is specified by [0.01, 1] and step=0.1, but the range is not divisible by `step`. It will be replaced by [0.01, 0.91].\n",
      "  warnings.warn(\n",
      "c:\\Users\\medol\\AppData\\Local\\Programs\\Python\\Python310\\lib\\site-packages\\sklearn\\linear_model\\_logistic.py:444: ConvergenceWarning: lbfgs failed to converge (status=1):\n",
      "STOP: TOTAL NO. of ITERATIONS REACHED LIMIT.\n",
      "\n",
      "Increase the number of iterations (max_iter) or scale the data as shown in:\n",
      "    https://scikit-learn.org/stable/modules/preprocessing.html\n",
      "Please also refer to the documentation for alternative solver options:\n",
      "    https://scikit-learn.org/stable/modules/linear_model.html#logistic-regression\n",
      "  n_iter_i = _check_optimize_result(\n",
      "\u001b[32m[I 2022-10-14 13:45:57,647]\u001b[0m Trial 42 finished with value: 0.7843446420739548 and parameters: {'penalty': 'l2', 'solver': 'lbfgs', 'C': 0.11}. Best is trial 18 with value: 0.7843446420739548.\u001b[0m\n",
      "c:\\Users\\medol\\AppData\\Local\\Programs\\Python\\Python310\\lib\\site-packages\\optuna\\distributions.py:668: UserWarning: The distribution is specified by [0.01, 1] and step=0.1, but the range is not divisible by `step`. It will be replaced by [0.01, 0.91].\n",
      "  warnings.warn(\n",
      "c:\\Users\\medol\\AppData\\Local\\Programs\\Python\\Python310\\lib\\site-packages\\sklearn\\linear_model\\_logistic.py:444: ConvergenceWarning: lbfgs failed to converge (status=1):\n",
      "STOP: TOTAL NO. of ITERATIONS REACHED LIMIT.\n",
      "\n",
      "Increase the number of iterations (max_iter) or scale the data as shown in:\n",
      "    https://scikit-learn.org/stable/modules/preprocessing.html\n",
      "Please also refer to the documentation for alternative solver options:\n",
      "    https://scikit-learn.org/stable/modules/linear_model.html#logistic-regression\n",
      "  n_iter_i = _check_optimize_result(\n",
      "\u001b[32m[I 2022-10-14 13:45:59,783]\u001b[0m Trial 43 finished with value: 0.7792866334316307 and parameters: {'penalty': 'l2', 'solver': 'lbfgs', 'C': 0.21000000000000002}. Best is trial 18 with value: 0.7843446420739548.\u001b[0m\n",
      "c:\\Users\\medol\\AppData\\Local\\Programs\\Python\\Python310\\lib\\site-packages\\optuna\\distributions.py:668: UserWarning: The distribution is specified by [0.01, 1] and step=0.1, but the range is not divisible by `step`. It will be replaced by [0.01, 0.91].\n",
      "  warnings.warn(\n",
      "\u001b[32m[I 2022-10-14 13:46:01,149]\u001b[0m Trial 44 finished with value: 0.7749459870866194 and parameters: {'penalty': 'l2', 'solver': 'lbfgs', 'C': 0.01}. Best is trial 18 with value: 0.7843446420739548.\u001b[0m\n",
      "c:\\Users\\medol\\AppData\\Local\\Programs\\Python\\Python310\\lib\\site-packages\\optuna\\distributions.py:668: UserWarning: The distribution is specified by [0.01, 1] and step=0.1, but the range is not divisible by `step`. It will be replaced by [0.01, 0.91].\n",
      "  warnings.warn(\n",
      "c:\\Users\\medol\\AppData\\Local\\Programs\\Python\\Python310\\lib\\site-packages\\sklearn\\linear_model\\_logistic.py:444: ConvergenceWarning: lbfgs failed to converge (status=1):\n",
      "STOP: TOTAL NO. of ITERATIONS REACHED LIMIT.\n",
      "\n",
      "Increase the number of iterations (max_iter) or scale the data as shown in:\n",
      "    https://scikit-learn.org/stable/modules/preprocessing.html\n",
      "Please also refer to the documentation for alternative solver options:\n",
      "    https://scikit-learn.org/stable/modules/linear_model.html#logistic-regression\n",
      "  n_iter_i = _check_optimize_result(\n",
      "\u001b[32m[I 2022-10-14 13:46:03,300]\u001b[0m Trial 45 finished with value: 0.7843446420739548 and parameters: {'penalty': 'l2', 'solver': 'lbfgs', 'C': 0.11}. Best is trial 18 with value: 0.7843446420739548.\u001b[0m\n",
      "c:\\Users\\medol\\AppData\\Local\\Programs\\Python\\Python310\\lib\\site-packages\\optuna\\distributions.py:668: UserWarning: The distribution is specified by [0.01, 1] and step=0.1, but the range is not divisible by `step`. It will be replaced by [0.01, 0.91].\n",
      "  warnings.warn(\n",
      "c:\\Users\\medol\\AppData\\Local\\Programs\\Python\\Python310\\lib\\site-packages\\sklearn\\linear_model\\_logistic.py:444: ConvergenceWarning: lbfgs failed to converge (status=1):\n",
      "STOP: TOTAL NO. of ITERATIONS REACHED LIMIT.\n",
      "\n",
      "Increase the number of iterations (max_iter) or scale the data as shown in:\n",
      "    https://scikit-learn.org/stable/modules/preprocessing.html\n",
      "Please also refer to the documentation for alternative solver options:\n",
      "    https://scikit-learn.org/stable/modules/linear_model.html#logistic-regression\n",
      "  n_iter_i = _check_optimize_result(\n",
      "\u001b[32m[I 2022-10-14 13:46:05,561]\u001b[0m Trial 46 finished with value: 0.7843446420739548 and parameters: {'penalty': 'l2', 'solver': 'lbfgs', 'C': 0.11}. Best is trial 18 with value: 0.7843446420739548.\u001b[0m\n",
      "c:\\Users\\medol\\AppData\\Local\\Programs\\Python\\Python310\\lib\\site-packages\\optuna\\distributions.py:668: UserWarning: The distribution is specified by [0.01, 1] and step=0.1, but the range is not divisible by `step`. It will be replaced by [0.01, 0.91].\n",
      "  warnings.warn(\n",
      "\u001b[32m[I 2022-10-14 13:46:11,477]\u001b[0m Trial 47 finished with value: 0.7803982420461868 and parameters: {'penalty': 'l2', 'solver': 'newton-cg', 'C': 0.21000000000000002}. Best is trial 18 with value: 0.7843446420739548.\u001b[0m\n",
      "c:\\Users\\medol\\AppData\\Local\\Programs\\Python\\Python310\\lib\\site-packages\\optuna\\distributions.py:668: UserWarning: The distribution is specified by [0.01, 1] and step=0.1, but the range is not divisible by `step`. It will be replaced by [0.01, 0.91].\n",
      "  warnings.warn(\n",
      "c:\\Users\\medol\\AppData\\Local\\Programs\\Python\\Python310\\lib\\site-packages\\sklearn\\linear_model\\_logistic.py:1113: UserWarning: Setting penalty='none' will ignore the C and l1_ratio parameters\n",
      "  warnings.warn(\n",
      "c:\\Users\\medol\\AppData\\Local\\Programs\\Python\\Python310\\lib\\site-packages\\sklearn\\linear_model\\_logistic.py:444: ConvergenceWarning: lbfgs failed to converge (status=1):\n",
      "STOP: TOTAL NO. of ITERATIONS REACHED LIMIT.\n",
      "\n",
      "Increase the number of iterations (max_iter) or scale the data as shown in:\n",
      "    https://scikit-learn.org/stable/modules/preprocessing.html\n",
      "Please also refer to the documentation for alternative solver options:\n",
      "    https://scikit-learn.org/stable/modules/linear_model.html#logistic-regression\n",
      "  n_iter_i = _check_optimize_result(\n",
      "\u001b[32m[I 2022-10-14 13:46:13,613]\u001b[0m Trial 48 finished with value: 0.7560783598917695 and parameters: {'penalty': 'none', 'solver': 'lbfgs', 'C': 0.31000000000000005}. Best is trial 18 with value: 0.7843446420739548.\u001b[0m\n",
      "c:\\Users\\medol\\AppData\\Local\\Programs\\Python\\Python310\\lib\\site-packages\\optuna\\distributions.py:668: UserWarning: The distribution is specified by [0.01, 1] and step=0.1, but the range is not divisible by `step`. It will be replaced by [0.01, 0.91].\n",
      "  warnings.warn(\n",
      "c:\\Users\\medol\\AppData\\Local\\Programs\\Python\\Python310\\lib\\site-packages\\sklearn\\linear_model\\_logistic.py:444: ConvergenceWarning: lbfgs failed to converge (status=1):\n",
      "STOP: TOTAL NO. of ITERATIONS REACHED LIMIT.\n",
      "\n",
      "Increase the number of iterations (max_iter) or scale the data as shown in:\n",
      "    https://scikit-learn.org/stable/modules/preprocessing.html\n",
      "Please also refer to the documentation for alternative solver options:\n",
      "    https://scikit-learn.org/stable/modules/linear_model.html#logistic-regression\n",
      "  n_iter_i = _check_optimize_result(\n",
      "\u001b[32m[I 2022-10-14 13:46:15,797]\u001b[0m Trial 49 finished with value: 0.7716759100571287 and parameters: {'penalty': 'l2', 'solver': 'lbfgs', 'C': 0.81}. Best is trial 18 with value: 0.7843446420739548.\u001b[0m\n"
     ]
    },
    {
     "name": "stdout",
     "output_type": "stream",
     "text": [
      "CPU times: total: 6min 58s\n",
      "Wall time: 5min 23s\n"
     ]
    }
   ],
   "source": [
    "%%time\n",
    "\n",
    "study = optuna.create_study(study_name='LogisticRegression', direction='maximize')\n",
    "\n",
    "study.optimize(optuna_lr, n_trials= 50)"
   ]
  },
  {
   "cell_type": "code",
   "execution_count": 65,
   "metadata": {},
   "outputs": [
    {
     "name": "stderr",
     "output_type": "stream",
     "text": [
      "c:\\Users\\medol\\AppData\\Local\\Programs\\Python\\Python310\\lib\\site-packages\\sklearn\\linear_model\\_logistic.py:444: ConvergenceWarning: lbfgs failed to converge (status=1):\n",
      "STOP: TOTAL NO. of ITERATIONS REACHED LIMIT.\n",
      "\n",
      "Increase the number of iterations (max_iter) or scale the data as shown in:\n",
      "    https://scikit-learn.org/stable/modules/preprocessing.html\n",
      "Please also refer to the documentation for alternative solver options:\n",
      "    https://scikit-learn.org/stable/modules/linear_model.html#logistic-regression\n",
      "  n_iter_i = _check_optimize_result(\n"
     ]
    }
   ],
   "source": [
    "model = linear_model.LogisticRegression(**study.best_params, random_state=random_state)\n",
    "model.fit(X_train, y_train)\n",
    "\n",
    "y_pred_optuna_lr = model.predict(X_test)\n",
    "\n",
    "f1_optuna_lr = metrics.f1_score(y_test, y_pred_optuna_lr)"
   ]
  },
  {
   "cell_type": "code",
   "execution_count": 66,
   "metadata": {},
   "outputs": [
    {
     "name": "stdout",
     "output_type": "stream",
     "text": [
      "F1-score на Baseline для логистической регресии равен 0.79\n",
      "F1-score на Optuna для логистической регресии равен 0.79\n"
     ]
    }
   ],
   "source": [
    "#Сравним результат с BaseLine\n",
    "print('F1-score на Baseline для логистической регресии равен {:.2f}'.format(f1_logReg_base))\n",
    "print('F1-score на Optuna для логистической регресии равен {:.2f}'.format(f1_optuna_lr))"
   ]
  },
  {
   "cell_type": "markdown",
   "metadata": {},
   "source": [
    "## Случайный лес"
   ]
  },
  {
   "cell_type": "code",
   "execution_count": 67,
   "metadata": {},
   "outputs": [],
   "source": [
    "def optuna_rf(trial):\n",
    "    n_estimators =  trial.suggest_int('n_estimators', 80, 200, 1)\n",
    "    max_depth = trial.suggest_int('max_depth', 1, 30, 1)\n",
    "    min_samples_leaf = trial.suggest_int('min_samples_leaf', 5, 25, 1)\n",
    "    \n",
    "    model = ensemble.RandomForestClassifier(\n",
    "        n_estimators=n_estimators,\n",
    "        max_depth=max_depth,\n",
    "        min_samples_leaf = min_samples_leaf,\n",
    "        random_state=random_state \n",
    "    )\n",
    "    \n",
    "    model.fit(X_train, y_train)\n",
    "    score = cross_val_score(model, X_train, y_train, cv = 5, scoring = 'f1', n_jobs= -1).mean()\n",
    "    \n",
    "    return score"
   ]
  },
  {
   "cell_type": "code",
   "execution_count": 68,
   "metadata": {},
   "outputs": [
    {
     "name": "stderr",
     "output_type": "stream",
     "text": [
      "\u001b[32m[I 2022-10-14 13:46:16,422]\u001b[0m A new study created in memory with name: RandomForestClassification\u001b[0m\n",
      "\u001b[32m[I 2022-10-14 13:46:19,058]\u001b[0m Trial 0 finished with value: 0.7848672562637755 and parameters: {'n_estimators': 134, 'max_depth': 10, 'min_samples_leaf': 10}. Best is trial 0 with value: 0.7848672562637755.\u001b[0m\n",
      "\u001b[32m[I 2022-10-14 13:46:21,617]\u001b[0m Trial 1 finished with value: 0.7815825502541451 and parameters: {'n_estimators': 136, 'max_depth': 22, 'min_samples_leaf': 17}. Best is trial 0 with value: 0.7848672562637755.\u001b[0m\n",
      "\u001b[32m[I 2022-10-14 13:46:24,963]\u001b[0m Trial 2 finished with value: 0.7865302782680568 and parameters: {'n_estimators': 164, 'max_depth': 14, 'min_samples_leaf': 11}. Best is trial 2 with value: 0.7865302782680568.\u001b[0m\n",
      "\u001b[32m[I 2022-10-14 13:46:27,503]\u001b[0m Trial 3 finished with value: 0.7732934983483443 and parameters: {'n_estimators': 149, 'max_depth': 29, 'min_samples_leaf': 21}. Best is trial 2 with value: 0.7865302782680568.\u001b[0m\n",
      "\u001b[32m[I 2022-10-14 13:46:29,273]\u001b[0m Trial 4 finished with value: 0.7680755900409602 and parameters: {'n_estimators': 92, 'max_depth': 18, 'min_samples_leaf': 22}. Best is trial 2 with value: 0.7865302782680568.\u001b[0m\n",
      "\u001b[32m[I 2022-10-14 13:46:33,512]\u001b[0m Trial 5 finished with value: 0.7896575864376845 and parameters: {'n_estimators': 192, 'max_depth': 16, 'min_samples_leaf': 11}. Best is trial 5 with value: 0.7896575864376845.\u001b[0m\n",
      "\u001b[32m[I 2022-10-14 13:46:36,902]\u001b[0m Trial 6 finished with value: 0.7721135526522647 and parameters: {'n_estimators': 179, 'max_depth': 7, 'min_samples_leaf': 7}. Best is trial 5 with value: 0.7896575864376845.\u001b[0m\n",
      "\u001b[32m[I 2022-10-14 13:46:39,539]\u001b[0m Trial 7 finished with value: 0.784881869977005 and parameters: {'n_estimators': 93, 'max_depth': 13, 'min_samples_leaf': 10}. Best is trial 5 with value: 0.7896575864376845.\u001b[0m\n",
      "\u001b[32m[I 2022-10-14 13:46:42,095]\u001b[0m Trial 8 finished with value: 0.7654882197428216 and parameters: {'n_estimators': 120, 'max_depth': 13, 'min_samples_leaf': 24}. Best is trial 5 with value: 0.7896575864376845.\u001b[0m\n",
      "\u001b[32m[I 2022-10-14 13:46:46,235]\u001b[0m Trial 9 finished with value: 0.7863207783231865 and parameters: {'n_estimators': 167, 'max_depth': 24, 'min_samples_leaf': 13}. Best is trial 5 with value: 0.7896575864376845.\u001b[0m\n",
      "\u001b[32m[I 2022-10-14 13:46:47,358]\u001b[0m Trial 10 finished with value: 0.7077415296224445 and parameters: {'n_estimators': 193, 'max_depth': 1, 'min_samples_leaf': 5}. Best is trial 5 with value: 0.7896575864376845.\u001b[0m\n",
      "\u001b[32m[I 2022-10-14 13:46:51,849]\u001b[0m Trial 11 finished with value: 0.7832699960116295 and parameters: {'n_estimators': 199, 'max_depth': 18, 'min_samples_leaf': 15}. Best is trial 5 with value: 0.7896575864376845.\u001b[0m\n",
      "\u001b[32m[I 2022-10-14 13:46:54,729]\u001b[0m Trial 12 finished with value: 0.7594462060071714 and parameters: {'n_estimators': 172, 'max_depth': 6, 'min_samples_leaf': 11}. Best is trial 5 with value: 0.7896575864376845.\u001b[0m\n",
      "\u001b[32m[I 2022-10-14 13:46:58,206]\u001b[0m Trial 13 finished with value: 0.7815588495056345 and parameters: {'n_estimators': 157, 'max_depth': 17, 'min_samples_leaf': 17}. Best is trial 5 with value: 0.7896575864376845.\u001b[0m\n",
      "\u001b[32m[I 2022-10-14 13:47:02,504]\u001b[0m Trial 14 finished with value: 0.7993645900213912 and parameters: {'n_estimators': 184, 'max_depth': 22, 'min_samples_leaf': 7}. Best is trial 14 with value: 0.7993645900213912.\u001b[0m\n",
      "\u001b[32m[I 2022-10-14 13:47:06,688]\u001b[0m Trial 15 finished with value: 0.8012033445926331 and parameters: {'n_estimators': 185, 'max_depth': 23, 'min_samples_leaf': 7}. Best is trial 15 with value: 0.8012033445926331.\u001b[0m\n",
      "\u001b[32m[I 2022-10-14 13:47:10,680]\u001b[0m Trial 16 finished with value: 0.8007225806911199 and parameters: {'n_estimators': 185, 'max_depth': 30, 'min_samples_leaf': 7}. Best is trial 15 with value: 0.8012033445926331.\u001b[0m\n",
      "\u001b[32m[I 2022-10-14 13:47:13,505]\u001b[0m Trial 17 finished with value: 0.7990717317545416 and parameters: {'n_estimators': 116, 'max_depth': 30, 'min_samples_leaf': 5}. Best is trial 15 with value: 0.8012033445926331.\u001b[0m\n",
      "\u001b[32m[I 2022-10-14 13:47:16,750]\u001b[0m Trial 18 finished with value: 0.7966248900302216 and parameters: {'n_estimators': 151, 'max_depth': 26, 'min_samples_leaf': 8}. Best is trial 15 with value: 0.8012033445926331.\u001b[0m\n",
      "\u001b[32m[I 2022-10-14 13:47:20,500]\u001b[0m Trial 19 finished with value: 0.7970916247817957 and parameters: {'n_estimators': 180, 'max_depth': 27, 'min_samples_leaf': 8}. Best is trial 15 with value: 0.8012033445926331.\u001b[0m\n",
      "\u001b[32m[I 2022-10-14 13:47:24,157]\u001b[0m Trial 20 finished with value: 0.7897236678987033 and parameters: {'n_estimators': 199, 'max_depth': 21, 'min_samples_leaf': 14}. Best is trial 15 with value: 0.8012033445926331.\u001b[0m\n",
      "\u001b[32m[I 2022-10-14 13:47:28,214]\u001b[0m Trial 21 finished with value: 0.7995990033439341 and parameters: {'n_estimators': 182, 'max_depth': 22, 'min_samples_leaf': 7}. Best is trial 15 with value: 0.8012033445926331.\u001b[0m\n",
      "\u001b[32m[I 2022-10-14 13:47:32,587]\u001b[0m Trial 22 finished with value: 0.803229786441172 and parameters: {'n_estimators': 185, 'max_depth': 26, 'min_samples_leaf': 5}. Best is trial 22 with value: 0.803229786441172.\u001b[0m\n",
      "\u001b[32m[I 2022-10-14 13:47:36,612]\u001b[0m Trial 23 finished with value: 0.8013610667172006 and parameters: {'n_estimators': 169, 'max_depth': 27, 'min_samples_leaf': 5}. Best is trial 22 with value: 0.803229786441172.\u001b[0m\n",
      "\u001b[32m[I 2022-10-14 13:47:40,516]\u001b[0m Trial 24 finished with value: 0.8014851218285161 and parameters: {'n_estimators': 169, 'max_depth': 25, 'min_samples_leaf': 5}. Best is trial 22 with value: 0.803229786441172.\u001b[0m\n",
      "\u001b[32m[I 2022-10-14 13:47:44,423]\u001b[0m Trial 25 finished with value: 0.800614532272361 and parameters: {'n_estimators': 162, 'max_depth': 26, 'min_samples_leaf': 5}. Best is trial 22 with value: 0.803229786441172.\u001b[0m\n",
      "\u001b[32m[I 2022-10-14 13:47:47,804]\u001b[0m Trial 26 finished with value: 0.8014811813337108 and parameters: {'n_estimators': 143, 'max_depth': 27, 'min_samples_leaf': 5}. Best is trial 22 with value: 0.803229786441172.\u001b[0m\n",
      "\u001b[32m[I 2022-10-14 13:47:50,630]\u001b[0m Trial 27 finished with value: 0.7956997102154104 and parameters: {'n_estimators': 127, 'max_depth': 19, 'min_samples_leaf': 9}. Best is trial 22 with value: 0.803229786441172.\u001b[0m\n",
      "\u001b[32m[I 2022-10-14 13:47:53,201]\u001b[0m Trial 28 finished with value: 0.7821316243586058 and parameters: {'n_estimators': 146, 'max_depth': 25, 'min_samples_leaf': 18}. Best is trial 22 with value: 0.803229786441172.\u001b[0m\n",
      "\u001b[32m[I 2022-10-14 13:47:56,156]\u001b[0m Trial 29 finished with value: 0.7925018441340035 and parameters: {'n_estimators': 141, 'max_depth': 28, 'min_samples_leaf': 9}. Best is trial 22 with value: 0.803229786441172.\u001b[0m\n",
      "\u001b[32m[I 2022-10-14 13:47:58,471]\u001b[0m Trial 30 finished with value: 0.7841533724716031 and parameters: {'n_estimators': 110, 'max_depth': 24, 'min_samples_leaf': 13}. Best is trial 22 with value: 0.803229786441172.\u001b[0m\n",
      "\u001b[32m[I 2022-10-14 13:48:02,502]\u001b[0m Trial 31 finished with value: 0.8013597386081548 and parameters: {'n_estimators': 173, 'max_depth': 28, 'min_samples_leaf': 5}. Best is trial 22 with value: 0.803229786441172.\u001b[0m\n",
      "\u001b[32m[I 2022-10-14 13:48:06,117]\u001b[0m Trial 32 finished with value: 0.7975780110197871 and parameters: {'n_estimators': 156, 'max_depth': 26, 'min_samples_leaf': 6}. Best is trial 22 with value: 0.803229786441172.\u001b[0m\n",
      "\u001b[32m[I 2022-10-14 13:48:09,214]\u001b[0m Trial 33 finished with value: 0.7959266056781249 and parameters: {'n_estimators': 134, 'max_depth': 20, 'min_samples_leaf': 6}. Best is trial 22 with value: 0.803229786441172.\u001b[0m\n",
      "\u001b[32m[I 2022-10-14 13:48:12,829]\u001b[0m Trial 34 finished with value: 0.7937778891620205 and parameters: {'n_estimators': 170, 'max_depth': 28, 'min_samples_leaf': 9}. Best is trial 22 with value: 0.803229786441172.\u001b[0m\n",
      "\u001b[32m[I 2022-10-14 13:48:16,488]\u001b[0m Trial 35 finished with value: 0.7980817230390201 and parameters: {'n_estimators': 162, 'max_depth': 24, 'min_samples_leaf': 6}. Best is trial 22 with value: 0.803229786441172.\u001b[0m\n",
      "\u001b[32m[I 2022-10-14 13:48:19,850]\u001b[0m Trial 36 finished with value: 0.8019755796179373 and parameters: {'n_estimators': 142, 'max_depth': 29, 'min_samples_leaf': 5}. Best is trial 22 with value: 0.803229786441172.\u001b[0m\n",
      "\u001b[32m[I 2022-10-14 13:48:22,358]\u001b[0m Trial 37 finished with value: 0.7758935201348767 and parameters: {'n_estimators': 141, 'max_depth': 30, 'min_samples_leaf': 20}. Best is trial 22 with value: 0.803229786441172.\u001b[0m\n",
      "\u001b[32m[I 2022-10-14 13:48:25,070]\u001b[0m Trial 38 finished with value: 0.7901082961336404 and parameters: {'n_estimators': 130, 'max_depth': 29, 'min_samples_leaf': 10}. Best is trial 22 with value: 0.803229786441172.\u001b[0m\n",
      "\u001b[32m[I 2022-10-14 13:48:26,680]\u001b[0m Trial 39 finished with value: 0.78177612929469 and parameters: {'n_estimators': 80, 'max_depth': 10, 'min_samples_leaf': 8}. Best is trial 22 with value: 0.803229786441172.\u001b[0m\n",
      "\u001b[32m[I 2022-10-14 13:48:29,672]\u001b[0m Trial 40 finished with value: 0.7884946998678946 and parameters: {'n_estimators': 148, 'max_depth': 25, 'min_samples_leaf': 12}. Best is trial 22 with value: 0.803229786441172.\u001b[0m\n",
      "\u001b[32m[I 2022-10-14 13:48:33,338]\u001b[0m Trial 41 finished with value: 0.8007705537082295 and parameters: {'n_estimators': 156, 'max_depth': 28, 'min_samples_leaf': 5}. Best is trial 22 with value: 0.803229786441172.\u001b[0m\n",
      "\u001b[32m[I 2022-10-14 13:48:37,347]\u001b[0m Trial 42 finished with value: 0.796317261645668 and parameters: {'n_estimators': 176, 'max_depth': 27, 'min_samples_leaf': 6}. Best is trial 22 with value: 0.803229786441172.\u001b[0m\n",
      "\u001b[32m[I 2022-10-14 13:48:41,055]\u001b[0m Trial 43 finished with value: 0.7971915490987459 and parameters: {'n_estimators': 166, 'max_depth': 25, 'min_samples_leaf': 6}. Best is trial 22 with value: 0.803229786441172.\u001b[0m\n",
      "\u001b[32m[I 2022-10-14 13:48:43,224]\u001b[0m Trial 44 finished with value: 0.7705451017161722 and parameters: {'n_estimators': 125, 'max_depth': 23, 'min_samples_leaf': 25}. Best is trial 22 with value: 0.803229786441172.\u001b[0m\n",
      "\u001b[32m[I 2022-10-14 13:48:47,661]\u001b[0m Trial 45 finished with value: 0.8024745588961839 and parameters: {'n_estimators': 194, 'max_depth': 27, 'min_samples_leaf': 5}. Best is trial 22 with value: 0.803229786441172.\u001b[0m\n",
      "\u001b[32m[I 2022-10-14 13:48:51,876]\u001b[0m Trial 46 finished with value: 0.7989035153102164 and parameters: {'n_estimators': 189, 'max_depth': 15, 'min_samples_leaf': 6}. Best is trial 22 with value: 0.803229786441172.\u001b[0m\n",
      "\u001b[32m[I 2022-10-14 13:48:55,817]\u001b[0m Trial 47 finished with value: 0.7984322206784923 and parameters: {'n_estimators': 190, 'max_depth': 29, 'min_samples_leaf': 8}. Best is trial 22 with value: 0.803229786441172.\u001b[0m\n",
      "\u001b[32m[I 2022-10-14 13:48:59,653]\u001b[0m Trial 48 finished with value: 0.7898347395300584 and parameters: {'n_estimators': 195, 'max_depth': 21, 'min_samples_leaf': 10}. Best is trial 22 with value: 0.803229786441172.\u001b[0m\n",
      "\u001b[32m[I 2022-10-14 13:49:00,393]\u001b[0m Trial 49 finished with value: 0.7110062213693763 and parameters: {'n_estimators': 106, 'max_depth': 1, 'min_samples_leaf': 7}. Best is trial 22 with value: 0.803229786441172.\u001b[0m\n"
     ]
    },
    {
     "name": "stdout",
     "output_type": "stream",
     "text": [
      "CPU times: total: 1min 11s\n",
      "Wall time: 2min 43s\n"
     ]
    }
   ],
   "source": [
    "%%time\n",
    "\n",
    "study = optuna.create_study(study_name='RandomForestClassification', direction='maximize')\n",
    "\n",
    "study.optimize(optuna_rf, n_trials= 50)"
   ]
  },
  {
   "cell_type": "code",
   "execution_count": 69,
   "metadata": {},
   "outputs": [],
   "source": [
    "model = ensemble.RandomForestClassifier(**study.best_params, random_state=random_state)\n",
    "\n",
    "model.fit(X_train, y_train)\n",
    "\n",
    "y_pred_optuna_rf = model.predict(X_test)\n",
    "\n",
    "f1_optuna_rf = metrics.f1_score(y_test, y_pred_optuna_rf)"
   ]
  },
  {
   "cell_type": "code",
   "execution_count": 70,
   "metadata": {},
   "outputs": [
    {
     "name": "stdout",
     "output_type": "stream",
     "text": [
      "F1-score на Baseline для Случайного леса равен 0.83\n",
      "F1-score на Optuna для Случайного леса равен 0.83\n"
     ]
    }
   ],
   "source": [
    "#Сравним результат с BaseLine\n",
    "print('F1-score на Baseline для Случайного леса равен {:.2f}'.format(f1_rf_base))\n",
    "print('F1-score на Optuna для Случайного леса равен {:.2f}'.format(f1_optuna_rf))"
   ]
  },
  {
   "cell_type": "markdown",
   "metadata": {},
   "source": [
    "# Итоги"
   ]
  },
  {
   "cell_type": "markdown",
   "metadata": {},
   "source": [
    "## Линейная регрессия"
   ]
  },
  {
   "cell_type": "code",
   "execution_count": 71,
   "metadata": {},
   "outputs": [
    {
     "name": "stdout",
     "output_type": "stream",
     "text": [
      "F1-score на Baseline для логистической регресии равен 0.79\n",
      "F1-score на GridSearchCV для логистической регресии равен 0.79\n",
      "F1-score на RandomizedSrearchCV для логистической регресии равен 0.80\n",
      "F1-score на HyperOpt для линейной регресии равен 0.80\n",
      "F1-score на Optuna для логистической регресии равен 0.79\n"
     ]
    }
   ],
   "source": [
    "print('F1-score на Baseline для логистической регресии равен {:.2f}'.format(f1_logReg_base))\n",
    "print('F1-score на GridSearchCV для логистической регресии равен {:.2f}'.format(f1_gs_logReg))\n",
    "print('F1-score на RandomizedSrearchCV для логистической регресии равен {:.2f}'.format(f1_rs_logReg))\n",
    "print('F1-score на HyperOpt для логистической регресии равен {:.2f}'.format(f1_ho_lr))\n",
    "print('F1-score на Optuna для логистической регресии равен {:.2f}'.format(f1_optuna_lr))"
   ]
  },
  {
   "cell_type": "markdown",
   "metadata": {},
   "source": [
    "## Случайный лес"
   ]
  },
  {
   "cell_type": "code",
   "execution_count": 72,
   "metadata": {},
   "outputs": [
    {
     "name": "stdout",
     "output_type": "stream",
     "text": [
      "F1-score на Baseline для Случайного леса равен 0.83\n",
      "F1-score на GridResearchCV для случайного леса равен 0.83\n",
      "F1-score на RandomizedSrearchCV для случайного леса равен 0.83\n",
      "F1-score на HyperOpt для случайного леса равен 0.84\n",
      "F1-score на Optuna для Случайного леса равен 0.83\n"
     ]
    }
   ],
   "source": [
    "print('F1-score на Baseline для Случайного леса равен {:.2f}'.format(f1_rf_base))\n",
    "print('F1-score на GridResearchCV для случайного леса равен {:.2f}'.format(f1_gs_rf))\n",
    "print('F1-score на RandomizedSrearchCV для случайного леса равен {:.2f}'.format(f1_rs_rf))\n",
    "print('F1-score на HyperOpt для случайного леса равен {:.2f}'.format(f1_ho_rf))\n",
    "print('F1-score на Optuna для Случайного леса равен {:.2f}'.format(f1_optuna_rf))"
   ]
  },
  {
   "cell_type": "markdown",
   "metadata": {},
   "source": [
    "Для логистической регрессии лучший результат f1_score = 0.8 показал RandomSearchCV и HyperOpt, а для Случайного леса лучший результат f1_score = 0.84 показал HyperOpt"
   ]
  },
  {
   "cell_type": "markdown",
   "metadata": {},
   "source": [
    "P.S. В моём личном рейтинге страданий:\n",
    "\n",
    "1 Место - HyperOpt, который никак не хотел вбирать в себя параметры логистической регресии\\\n",
    "2 Место - GridResearchCV, который на большой сетке параметров забрал у меня ноутбук на 2.5 часа и пришлось перенастраивать сетку\\\n",
    "3 Место - Optuna, которая, к сожалению, не преодолеть BaseLine, а я так в нее верил"
   ]
  },
  {
   "cell_type": "code",
   "execution_count": null,
   "metadata": {},
   "outputs": [],
   "source": []
  }
 ],
 "metadata": {
  "kernelspec": {
   "display_name": "Python 3.10.7 64-bit",
   "language": "python",
   "name": "python3"
  },
  "language_info": {
   "codemirror_mode": {
    "name": "ipython",
    "version": 3
   },
   "file_extension": ".py",
   "mimetype": "text/x-python",
   "name": "python",
   "nbconvert_exporter": "python",
   "pygments_lexer": "ipython3",
   "version": "3.10.7"
  },
  "orig_nbformat": 4,
  "vscode": {
   "interpreter": {
    "hash": "692452926a1002f011508fca2f08b574b400eacdc3255d89f24e5bc9f497edaa"
   }
  }
 },
 "nbformat": 4,
 "nbformat_minor": 2
}
