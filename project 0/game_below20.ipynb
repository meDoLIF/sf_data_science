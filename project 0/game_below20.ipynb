{
 "cells": [
  {
   "cell_type": "code",
   "execution_count": 44,
   "metadata": {},
   "outputs": [],
   "source": [
    "import numpy as np\n",
    "\n",
    "lim_a = 1\n",
    "lim_b = 101\n",
    "\n",
    "number = np.random.randint(lim_a, lim_b) # загадываем число\n",
    "\n",
    "\n",
    "def guess(number) -> int:\n",
    "    count = 0 #Счетчик на 0\n",
    "    predict = (lim_a+lim_b)/2\n",
    "    oldpredict = 0\n",
    "    newpredict = 0\n",
    "    count = 0\n",
    "    while number != predict:\n",
    "        count +=1\n",
    "        if number > predict and oldpredict < predict:\n",
    "            newpredict = round(predict + (100-predict)/2,0)\n",
    "            oldpredict = predict\n",
    "            predict = newpredict \n",
    "        elif number < predict and oldpredict > predict: \n",
    "            newpredict = round(predict/2,0)\n",
    "            oldpredict = predict\n",
    "            predict = newpredict \n",
    "        elif number > predict and oldpredict > predict: \n",
    "            newpredict = round((oldpredict + predict)/2,0)\n",
    "            oldpredict = oldpredict\n",
    "            predict = newpredict \n",
    "        elif number < predict and oldpredict < predict:\n",
    "            newpredict = round((predict + oldpredict)/2,0)      \n",
    "            oldpredict = oldpredict\n",
    "            predict = newpredict \n",
    "    return(count)"
   ]
  },
  {
   "cell_type": "code",
   "execution_count": 45,
   "metadata": {},
   "outputs": [],
   "source": [
    "def score_game(random_predict) -> int:\n",
    "    \"\"\"За какое количество попыток в среднем за 1000 подходов угадывает наш алгоритм\n",
    "\n",
    "    Args:\n",
    "        random_predict ([type]): функция угадывания\n",
    "\n",
    "    Returns:\n",
    "        int: среднее количество попыток\n",
    "    \"\"\"\n",
    "\n",
    "    count_ls = [] # список для сохранения количества попыток\n",
    "    np.random.seed(1) # фиксируем сид для вопроизводимости\n",
    "    random_array = np.random.randint(1, 101, size=(1000)) # загадали список чисел\n",
    "\n",
    "    for number in random_array:\n",
    "        count_ls.append(random_predict(number))\n",
    "\n",
    "    score = int(np.mean(count_ls)) # находим среднее количество попыток\n",
    "\n",
    "    print(f'Ваш алгоритм угадывает число в среднем за: {score} попыток')\n",
    "    return(score)"
   ]
  },
  {
   "cell_type": "code",
   "execution_count": 46,
   "metadata": {},
   "outputs": [
    {
     "name": "stdout",
     "output_type": "stream",
     "text": [
      "Ваш алгоритм угадывает число в среднем за: 8 попыток\n",
      "Ваш алгоритм угадывает число в среднем за: 8 попыток\n"
     ]
    }
   ],
   "source": [
    "print(f'Ваш алгоритм угадывает число в среднем за: {score_game(guess)} попыток')"
   ]
  }
 ],
 "metadata": {
  "interpreter": {
   "hash": "795eee063483bd2b999d5e82e5e78979037d363308624ca5a6542c0082e79e03"
  },
  "kernelspec": {
   "display_name": "Python 3.8.3 64-bit ('base': conda)",
   "language": "python",
   "name": "python3"
  },
  "language_info": {
   "codemirror_mode": {
    "name": "ipython",
    "version": 3
   },
   "file_extension": ".py",
   "mimetype": "text/x-python",
   "name": "python",
   "nbconvert_exporter": "python",
   "pygments_lexer": "ipython3",
   "version": "3.8.3"
  },
  "orig_nbformat": 4
 },
 "nbformat": 4,
 "nbformat_minor": 2
}
